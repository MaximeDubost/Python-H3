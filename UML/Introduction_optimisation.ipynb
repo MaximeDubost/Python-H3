{
 "cells": [
  {
   "cell_type": "markdown",
   "metadata": {},
   "source": [
    "## Exercice 1"
   ]
  },
  {
   "cell_type": "code",
   "execution_count": 4,
   "metadata": {},
   "outputs": [],
   "source": [
    "\n",
    "# Importation des bibliothèques numpy et pyplot\n",
    "import numpy as np\n",
    "import math \n",
    "import matplotlib.pyplot as plt"
   ]
  },
  {
   "cell_type": "code",
   "execution_count": 5,
   "metadata": {},
   "outputs": [],
   "source": [
    "def f1(x,y) :\n",
    "    return (x**3) + (y**3) - (3*x) - (12*y)\n",
    "\n",
    "\n",
    "def f2(x,y) :\n",
    "    return (x**3) - (12*x*y) + (8*y**3)\n",
    "\n",
    "\n",
    "def f3(x,y) :\n",
    "    return ((x-1)**2) + (10*(x**2 - y)**2)"
   ]
  },
  {
   "cell_type": "markdown",
   "metadata": {},
   "source": [
    "## Exercice 2"
   ]
  },
  {
   "cell_type": "markdown",
   "metadata": {},
   "source": [
    "## Exercice 3"
   ]
  },
  {
   "cell_type": "markdown",
   "metadata": {},
   "source": [
    "3.3"
   ]
  },
  {
   "cell_type": "code",
   "execution_count": 8,
   "metadata": {},
   "outputs": [],
   "source": [
    "def df1 (x,y) :\n",
    "    df_dx = 3 * x ** 2 - 3\n",
    "    df_dy = 3 * y ** 2 - 12\n",
    "    return [df_dx,df_dy]"
   ]
  },
  {
   "cell_type": "code",
   "execution_count": 9,
   "metadata": {},
   "outputs": [
    {
     "data": {
      "text/plain": [
       "[-3, -12]"
      ]
     },
     "execution_count": 9,
     "metadata": {},
     "output_type": "execute_result"
    }
   ],
   "source": [
    "df1(0, 0)"
   ]
  },
  {
   "cell_type": "markdown",
   "metadata": {},
   "source": [
    "3.4"
   ]
  },
  {
   "cell_type": "code",
   "execution_count": null,
   "metadata": {},
   "outputs": [],
   "source": [
    "def d2f1 (x,y) :\n",
    "    # Dérivées partielles d'ordre 2\n",
    "    return [[d2f_dxdx,d2f_dxdy],[d2f_dydx,d2f_dydy]]"
   ]
  },
  {
   "cell_type": "code",
   "execution_count": null,
   "metadata": {},
   "outputs": [],
   "source": [
    "matrice = d2f1(-1, -2)\n",
    "valProp = np.linalg.eigvals(matrice)\n",
    "print('Valeurs propres de la matrice {} :'.format(matrice))\n",
    "print('  vp1 = {}'.format(valProp[0]))\n",
    "print('  vp2 = {}'.format(valProp[1]))"
   ]
  }
 ],
 "metadata": {
  "kernelspec": {
   "display_name": "Python 3",
   "language": "python",
   "name": "python3"
  },
  "language_info": {
   "codemirror_mode": {
    "name": "ipython",
    "version": 3
   },
   "file_extension": ".py",
   "mimetype": "text/x-python",
   "name": "python",
   "nbconvert_exporter": "python",
   "pygments_lexer": "ipython3",
   "version": "3.8.3"
  }
 },
 "nbformat": 4,
 "nbformat_minor": 4
}
