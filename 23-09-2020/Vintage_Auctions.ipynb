{
 "cells": [
  {
   "cell_type": "markdown",
   "metadata": {},
   "source": [
    "# Exercice - Vintage Auctions"
   ]
  },
  {
   "cell_type": "code",
   "execution_count": 58,
   "metadata": {},
   "outputs": [],
   "source": [
    "import pandas as pd\n",
    "fp = 'https://bit.ly/vintage-auctions'\n",
    "df = pd.read_csv(fp)"
   ]
  },
  {
   "cell_type": "markdown",
   "metadata": {},
   "source": [
    "## Phase d'analyse"
   ]
  },
  {
   "cell_type": "code",
   "execution_count": 59,
   "metadata": {},
   "outputs": [
    {
     "data": {
      "text/html": [
       "<div>\n",
       "<style scoped>\n",
       "    .dataframe tbody tr th:only-of-type {\n",
       "        vertical-align: middle;\n",
       "    }\n",
       "\n",
       "    .dataframe tbody tr th {\n",
       "        vertical-align: top;\n",
       "    }\n",
       "\n",
       "    .dataframe thead th {\n",
       "        text-align: right;\n",
       "    }\n",
       "</style>\n",
       "<table border=\"1\" class=\"dataframe\">\n",
       "  <thead>\n",
       "    <tr style=\"text-align: right;\">\n",
       "      <th></th>\n",
       "      <th>tx id</th>\n",
       "      <th>time</th>\n",
       "      <th>auction</th>\n",
       "      <th>color</th>\n",
       "      <th>shirt size</th>\n",
       "      <th>condition</th>\n",
       "    </tr>\n",
       "  </thead>\n",
       "  <tbody>\n",
       "    <tr>\n",
       "      <th>0</th>\n",
       "      <td>8dbf3cfa48b25f32e300f279bb4163c67d5c60cd</td>\n",
       "      <td>3:36 PM</td>\n",
       "      <td>$17.18</td>\n",
       "      <td>Puce</td>\n",
       "      <td>S</td>\n",
       "      <td>used</td>\n",
       "    </tr>\n",
       "    <tr>\n",
       "      <th>1</th>\n",
       "      <td>8ccebfdb1a41830bdcc0e926531f3215986b3a90</td>\n",
       "      <td>9:03 AM</td>\n",
       "      <td>$15.19</td>\n",
       "      <td>Aquamarine</td>\n",
       "      <td>L</td>\n",
       "      <td>never worn</td>\n",
       "    </tr>\n",
       "    <tr>\n",
       "      <th>2</th>\n",
       "      <td>ae85a421a91cec8baf16ff1e45fb3e239130b584</td>\n",
       "      <td>7:42 PM</td>\n",
       "      <td>$7.58</td>\n",
       "      <td>Violet</td>\n",
       "      <td>L</td>\n",
       "      <td>used</td>\n",
       "    </tr>\n",
       "    <tr>\n",
       "      <th>3</th>\n",
       "      <td>85e44f09a04a79182befcfd55e288a855f633e81</td>\n",
       "      <td>10:28 PM</td>\n",
       "      <td>$9.10</td>\n",
       "      <td>Goldenrod</td>\n",
       "      <td>XS</td>\n",
       "      <td>NaN</td>\n",
       "    </tr>\n",
       "    <tr>\n",
       "      <th>4</th>\n",
       "      <td>ff750bfca4910cfa7f538fbe5463457839021680</td>\n",
       "      <td>6:38 AM</td>\n",
       "      <td>$8.22</td>\n",
       "      <td>NaN</td>\n",
       "      <td>2XL</td>\n",
       "      <td>used</td>\n",
       "    </tr>\n",
       "  </tbody>\n",
       "</table>\n",
       "</div>"
      ],
      "text/plain": [
       "                                      tx id      time auction       color  \\\n",
       "0  8dbf3cfa48b25f32e300f279bb4163c67d5c60cd   3:36 PM  $17.18        Puce   \n",
       "1  8ccebfdb1a41830bdcc0e926531f3215986b3a90   9:03 AM  $15.19  Aquamarine   \n",
       "2  ae85a421a91cec8baf16ff1e45fb3e239130b584   7:42 PM   $7.58      Violet   \n",
       "3  85e44f09a04a79182befcfd55e288a855f633e81  10:28 PM   $9.10   Goldenrod   \n",
       "4  ff750bfca4910cfa7f538fbe5463457839021680   6:38 AM   $8.22         NaN   \n",
       "\n",
       "  shirt size   condition  \n",
       "0          S        used  \n",
       "1          L  never worn  \n",
       "2          L        used  \n",
       "3         XS         NaN  \n",
       "4        2XL        used  "
      ]
     },
     "execution_count": 59,
     "metadata": {},
     "output_type": "execute_result"
    }
   ],
   "source": [
    "df.head()"
   ]
  },
  {
   "cell_type": "code",
   "execution_count": 60,
   "metadata": {},
   "outputs": [
    {
     "data": {
      "text/plain": [
       "tx id           0\n",
       "time            0\n",
       "auction         0\n",
       "color          23\n",
       "shirt size      0\n",
       "condition     153\n",
       "dtype: int64"
      ]
     },
     "execution_count": 60,
     "metadata": {},
     "output_type": "execute_result"
    }
   ],
   "source": [
    "df.isna().sum()"
   ]
  },
  {
   "cell_type": "code",
   "execution_count": 61,
   "metadata": {},
   "outputs": [
    {
     "data": {
      "text/plain": [
       "tx id         object\n",
       "time          object\n",
       "auction       object\n",
       "color         object\n",
       "shirt size    object\n",
       "condition     object\n",
       "dtype: object"
      ]
     },
     "execution_count": 61,
     "metadata": {},
     "output_type": "execute_result"
    }
   ],
   "source": [
    "df.dtypes"
   ]
  },
  {
   "cell_type": "markdown",
   "metadata": {},
   "source": [
    "## Gestion du prix"
   ]
  },
  {
   "cell_type": "markdown",
   "metadata": {},
   "source": [
    "### Replacement des potentielles \",\" par des \".\""
   ]
  },
  {
   "cell_type": "code",
   "execution_count": 62,
   "metadata": {},
   "outputs": [
    {
     "data": {
      "text/html": [
       "<div>\n",
       "<style scoped>\n",
       "    .dataframe tbody tr th:only-of-type {\n",
       "        vertical-align: middle;\n",
       "    }\n",
       "\n",
       "    .dataframe tbody tr th {\n",
       "        vertical-align: top;\n",
       "    }\n",
       "\n",
       "    .dataframe thead th {\n",
       "        text-align: right;\n",
       "    }\n",
       "</style>\n",
       "<table border=\"1\" class=\"dataframe\">\n",
       "  <thead>\n",
       "    <tr style=\"text-align: right;\">\n",
       "      <th></th>\n",
       "      <th>tx id</th>\n",
       "      <th>time</th>\n",
       "      <th>auction</th>\n",
       "      <th>color</th>\n",
       "      <th>shirt size</th>\n",
       "      <th>condition</th>\n",
       "    </tr>\n",
       "  </thead>\n",
       "  <tbody>\n",
       "    <tr>\n",
       "      <th>0</th>\n",
       "      <td>8dbf3cfa48b25f32e300f279bb4163c67d5c60cd</td>\n",
       "      <td>3:36 PM</td>\n",
       "      <td>$17.18</td>\n",
       "      <td>Puce</td>\n",
       "      <td>S</td>\n",
       "      <td>used</td>\n",
       "    </tr>\n",
       "    <tr>\n",
       "      <th>1</th>\n",
       "      <td>8ccebfdb1a41830bdcc0e926531f3215986b3a90</td>\n",
       "      <td>9:03 AM</td>\n",
       "      <td>$15.19</td>\n",
       "      <td>Aquamarine</td>\n",
       "      <td>L</td>\n",
       "      <td>never worn</td>\n",
       "    </tr>\n",
       "    <tr>\n",
       "      <th>2</th>\n",
       "      <td>ae85a421a91cec8baf16ff1e45fb3e239130b584</td>\n",
       "      <td>7:42 PM</td>\n",
       "      <td>$7.58</td>\n",
       "      <td>Violet</td>\n",
       "      <td>L</td>\n",
       "      <td>used</td>\n",
       "    </tr>\n",
       "    <tr>\n",
       "      <th>3</th>\n",
       "      <td>85e44f09a04a79182befcfd55e288a855f633e81</td>\n",
       "      <td>10:28 PM</td>\n",
       "      <td>$9.10</td>\n",
       "      <td>Goldenrod</td>\n",
       "      <td>XS</td>\n",
       "      <td>NaN</td>\n",
       "    </tr>\n",
       "    <tr>\n",
       "      <th>4</th>\n",
       "      <td>ff750bfca4910cfa7f538fbe5463457839021680</td>\n",
       "      <td>6:38 AM</td>\n",
       "      <td>$8.22</td>\n",
       "      <td>NaN</td>\n",
       "      <td>2XL</td>\n",
       "      <td>used</td>\n",
       "    </tr>\n",
       "  </tbody>\n",
       "</table>\n",
       "</div>"
      ],
      "text/plain": [
       "                                      tx id      time auction       color  \\\n",
       "0  8dbf3cfa48b25f32e300f279bb4163c67d5c60cd   3:36 PM  $17.18        Puce   \n",
       "1  8ccebfdb1a41830bdcc0e926531f3215986b3a90   9:03 AM  $15.19  Aquamarine   \n",
       "2  ae85a421a91cec8baf16ff1e45fb3e239130b584   7:42 PM   $7.58      Violet   \n",
       "3  85e44f09a04a79182befcfd55e288a855f633e81  10:28 PM   $9.10   Goldenrod   \n",
       "4  ff750bfca4910cfa7f538fbe5463457839021680   6:38 AM   $8.22         NaN   \n",
       "\n",
       "  shirt size   condition  \n",
       "0          S        used  \n",
       "1          L  never worn  \n",
       "2          L        used  \n",
       "3         XS         NaN  \n",
       "4        2XL        used  "
      ]
     },
     "execution_count": 62,
     "metadata": {},
     "output_type": "execute_result"
    }
   ],
   "source": [
    "df['auction'] = df['auction'].replace(',', '.')\n",
    "df.head()"
   ]
  },
  {
   "cell_type": "markdown",
   "metadata": {},
   "source": [
    "### Copie de la devise dans une colonne à part"
   ]
  },
  {
   "cell_type": "code",
   "execution_count": 63,
   "metadata": {},
   "outputs": [
    {
     "data": {
      "text/html": [
       "<div>\n",
       "<style scoped>\n",
       "    .dataframe tbody tr th:only-of-type {\n",
       "        vertical-align: middle;\n",
       "    }\n",
       "\n",
       "    .dataframe tbody tr th {\n",
       "        vertical-align: top;\n",
       "    }\n",
       "\n",
       "    .dataframe thead th {\n",
       "        text-align: right;\n",
       "    }\n",
       "</style>\n",
       "<table border=\"1\" class=\"dataframe\">\n",
       "  <thead>\n",
       "    <tr style=\"text-align: right;\">\n",
       "      <th></th>\n",
       "      <th>tx id</th>\n",
       "      <th>time</th>\n",
       "      <th>auction</th>\n",
       "      <th>color</th>\n",
       "      <th>shirt size</th>\n",
       "      <th>condition</th>\n",
       "      <th>currency</th>\n",
       "    </tr>\n",
       "  </thead>\n",
       "  <tbody>\n",
       "    <tr>\n",
       "      <th>0</th>\n",
       "      <td>8dbf3cfa48b25f32e300f279bb4163c67d5c60cd</td>\n",
       "      <td>3:36 PM</td>\n",
       "      <td>$17.18</td>\n",
       "      <td>Puce</td>\n",
       "      <td>S</td>\n",
       "      <td>used</td>\n",
       "      <td>$</td>\n",
       "    </tr>\n",
       "    <tr>\n",
       "      <th>1</th>\n",
       "      <td>8ccebfdb1a41830bdcc0e926531f3215986b3a90</td>\n",
       "      <td>9:03 AM</td>\n",
       "      <td>$15.19</td>\n",
       "      <td>Aquamarine</td>\n",
       "      <td>L</td>\n",
       "      <td>never worn</td>\n",
       "      <td>$</td>\n",
       "    </tr>\n",
       "    <tr>\n",
       "      <th>2</th>\n",
       "      <td>ae85a421a91cec8baf16ff1e45fb3e239130b584</td>\n",
       "      <td>7:42 PM</td>\n",
       "      <td>$7.58</td>\n",
       "      <td>Violet</td>\n",
       "      <td>L</td>\n",
       "      <td>used</td>\n",
       "      <td>$</td>\n",
       "    </tr>\n",
       "    <tr>\n",
       "      <th>3</th>\n",
       "      <td>85e44f09a04a79182befcfd55e288a855f633e81</td>\n",
       "      <td>10:28 PM</td>\n",
       "      <td>$9.10</td>\n",
       "      <td>Goldenrod</td>\n",
       "      <td>XS</td>\n",
       "      <td>NaN</td>\n",
       "      <td>$</td>\n",
       "    </tr>\n",
       "    <tr>\n",
       "      <th>4</th>\n",
       "      <td>ff750bfca4910cfa7f538fbe5463457839021680</td>\n",
       "      <td>6:38 AM</td>\n",
       "      <td>$8.22</td>\n",
       "      <td>NaN</td>\n",
       "      <td>2XL</td>\n",
       "      <td>used</td>\n",
       "      <td>$</td>\n",
       "    </tr>\n",
       "  </tbody>\n",
       "</table>\n",
       "</div>"
      ],
      "text/plain": [
       "                                      tx id      time auction       color  \\\n",
       "0  8dbf3cfa48b25f32e300f279bb4163c67d5c60cd   3:36 PM  $17.18        Puce   \n",
       "1  8ccebfdb1a41830bdcc0e926531f3215986b3a90   9:03 AM  $15.19  Aquamarine   \n",
       "2  ae85a421a91cec8baf16ff1e45fb3e239130b584   7:42 PM   $7.58      Violet   \n",
       "3  85e44f09a04a79182befcfd55e288a855f633e81  10:28 PM   $9.10   Goldenrod   \n",
       "4  ff750bfca4910cfa7f538fbe5463457839021680   6:38 AM   $8.22         NaN   \n",
       "\n",
       "  shirt size   condition currency  \n",
       "0          S        used        $  \n",
       "1          L  never worn        $  \n",
       "2          L        used        $  \n",
       "3         XS         NaN        $  \n",
       "4        2XL        used        $  "
      ]
     },
     "execution_count": 63,
     "metadata": {},
     "output_type": "execute_result"
    }
   ],
   "source": [
    "df['currency'] = df['auction'].str[0]\n",
    "df.head()"
   ]
  },
  {
   "cell_type": "markdown",
   "metadata": {},
   "source": [
    "### Convertion du prix sans la devise en nombre réel"
   ]
  },
  {
   "cell_type": "code",
   "execution_count": 64,
   "metadata": {},
   "outputs": [
    {
     "data": {
      "text/html": [
       "<div>\n",
       "<style scoped>\n",
       "    .dataframe tbody tr th:only-of-type {\n",
       "        vertical-align: middle;\n",
       "    }\n",
       "\n",
       "    .dataframe tbody tr th {\n",
       "        vertical-align: top;\n",
       "    }\n",
       "\n",
       "    .dataframe thead th {\n",
       "        text-align: right;\n",
       "    }\n",
       "</style>\n",
       "<table border=\"1\" class=\"dataframe\">\n",
       "  <thead>\n",
       "    <tr style=\"text-align: right;\">\n",
       "      <th></th>\n",
       "      <th>tx id</th>\n",
       "      <th>time</th>\n",
       "      <th>auction</th>\n",
       "      <th>color</th>\n",
       "      <th>shirt size</th>\n",
       "      <th>condition</th>\n",
       "      <th>currency</th>\n",
       "    </tr>\n",
       "  </thead>\n",
       "  <tbody>\n",
       "    <tr>\n",
       "      <th>0</th>\n",
       "      <td>8dbf3cfa48b25f32e300f279bb4163c67d5c60cd</td>\n",
       "      <td>3:36 PM</td>\n",
       "      <td>17.18</td>\n",
       "      <td>Puce</td>\n",
       "      <td>S</td>\n",
       "      <td>used</td>\n",
       "      <td>$</td>\n",
       "    </tr>\n",
       "    <tr>\n",
       "      <th>1</th>\n",
       "      <td>8ccebfdb1a41830bdcc0e926531f3215986b3a90</td>\n",
       "      <td>9:03 AM</td>\n",
       "      <td>15.19</td>\n",
       "      <td>Aquamarine</td>\n",
       "      <td>L</td>\n",
       "      <td>never worn</td>\n",
       "      <td>$</td>\n",
       "    </tr>\n",
       "    <tr>\n",
       "      <th>2</th>\n",
       "      <td>ae85a421a91cec8baf16ff1e45fb3e239130b584</td>\n",
       "      <td>7:42 PM</td>\n",
       "      <td>7.58</td>\n",
       "      <td>Violet</td>\n",
       "      <td>L</td>\n",
       "      <td>used</td>\n",
       "      <td>$</td>\n",
       "    </tr>\n",
       "    <tr>\n",
       "      <th>3</th>\n",
       "      <td>85e44f09a04a79182befcfd55e288a855f633e81</td>\n",
       "      <td>10:28 PM</td>\n",
       "      <td>9.10</td>\n",
       "      <td>Goldenrod</td>\n",
       "      <td>XS</td>\n",
       "      <td>NaN</td>\n",
       "      <td>$</td>\n",
       "    </tr>\n",
       "    <tr>\n",
       "      <th>4</th>\n",
       "      <td>ff750bfca4910cfa7f538fbe5463457839021680</td>\n",
       "      <td>6:38 AM</td>\n",
       "      <td>8.22</td>\n",
       "      <td>NaN</td>\n",
       "      <td>2XL</td>\n",
       "      <td>used</td>\n",
       "      <td>$</td>\n",
       "    </tr>\n",
       "  </tbody>\n",
       "</table>\n",
       "</div>"
      ],
      "text/plain": [
       "                                      tx id      time  auction       color  \\\n",
       "0  8dbf3cfa48b25f32e300f279bb4163c67d5c60cd   3:36 PM    17.18        Puce   \n",
       "1  8ccebfdb1a41830bdcc0e926531f3215986b3a90   9:03 AM    15.19  Aquamarine   \n",
       "2  ae85a421a91cec8baf16ff1e45fb3e239130b584   7:42 PM     7.58      Violet   \n",
       "3  85e44f09a04a79182befcfd55e288a855f633e81  10:28 PM     9.10   Goldenrod   \n",
       "4  ff750bfca4910cfa7f538fbe5463457839021680   6:38 AM     8.22         NaN   \n",
       "\n",
       "  shirt size   condition currency  \n",
       "0          S        used        $  \n",
       "1          L  never worn        $  \n",
       "2          L        used        $  \n",
       "3         XS         NaN        $  \n",
       "4        2XL        used        $  "
      ]
     },
     "execution_count": 64,
     "metadata": {},
     "output_type": "execute_result"
    }
   ],
   "source": [
    "df['auction'] = df['auction'].str[1:].astype('float')\n",
    "df.head()"
   ]
  },
  {
   "cell_type": "code",
   "execution_count": 65,
   "metadata": {},
   "outputs": [
    {
     "data": {
      "text/plain": [
       "tx id          object\n",
       "time           object\n",
       "auction       float64\n",
       "color          object\n",
       "shirt size     object\n",
       "condition      object\n",
       "currency       object\n",
       "dtype: object"
      ]
     },
     "execution_count": 65,
     "metadata": {},
     "output_type": "execute_result"
    }
   ],
   "source": [
    "df.dtypes"
   ]
  },
  {
   "cell_type": "markdown",
   "metadata": {},
   "source": [
    "## Gestion de l'heure"
   ]
  },
  {
   "cell_type": "code",
   "execution_count": null,
   "metadata": {},
   "outputs": [],
   "source": []
  }
 ],
 "metadata": {
  "kernelspec": {
   "display_name": "Python 3",
   "language": "python",
   "name": "python3"
  },
  "language_info": {
   "codemirror_mode": {
    "name": "ipython",
    "version": 3
   },
   "file_extension": ".py",
   "mimetype": "text/x-python",
   "name": "python",
   "nbconvert_exporter": "python",
   "pygments_lexer": "ipython3",
   "version": "3.8.3"
  }
 },
 "nbformat": 4,
 "nbformat_minor": 4
}
