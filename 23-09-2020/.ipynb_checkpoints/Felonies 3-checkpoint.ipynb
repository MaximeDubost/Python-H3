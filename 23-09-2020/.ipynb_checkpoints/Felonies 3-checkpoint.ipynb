{
 "cells": [
  {
   "cell_type": "code",
   "execution_count": 68,
   "metadata": {},
   "outputs": [],
   "source": [
    "import pandas as pd\n",
    "fp = 'https://bit.ly/felonies-dataset'\n",
    "df = pd.read_csv(fp)"
   ]
  },
  {
   "cell_type": "markdown",
   "metadata": {},
   "source": [
    "# La méthode map de pandas"
   ]
  },
  {
   "cell_type": "code",
   "execution_count": 69,
   "metadata": {},
   "outputs": [],
   "source": [
    "df['DoA'] = pd.to_datetime(df['Date of Arrest'])"
   ]
  },
  {
   "cell_type": "code",
   "execution_count": 70,
   "metadata": {},
   "outputs": [
    {
     "data": {
      "text/plain": [
       "Date of Arrest            object\n",
       "Age                        int64\n",
       "Convicted                 object\n",
       "DoA               datetime64[ns]\n",
       "dtype: object"
      ]
     },
     "execution_count": 70,
     "metadata": {},
     "output_type": "execute_result"
    }
   ],
   "source": [
    "df.dtypes"
   ]
  },
  {
   "cell_type": "code",
   "execution_count": 71,
   "metadata": {},
   "outputs": [
    {
     "data": {
      "text/html": [
       "<div>\n",
       "<style scoped>\n",
       "    .dataframe tbody tr th:only-of-type {\n",
       "        vertical-align: middle;\n",
       "    }\n",
       "\n",
       "    .dataframe tbody tr th {\n",
       "        vertical-align: top;\n",
       "    }\n",
       "\n",
       "    .dataframe thead th {\n",
       "        text-align: right;\n",
       "    }\n",
       "</style>\n",
       "<table border=\"1\" class=\"dataframe\">\n",
       "  <thead>\n",
       "    <tr style=\"text-align: right;\">\n",
       "      <th></th>\n",
       "      <th>Date of Arrest</th>\n",
       "      <th>Age</th>\n",
       "      <th>Convicted</th>\n",
       "      <th>DoA</th>\n",
       "    </tr>\n",
       "  </thead>\n",
       "  <tbody>\n",
       "    <tr>\n",
       "      <th>0</th>\n",
       "      <td>2014-07-16 14:59:18</td>\n",
       "      <td>77</td>\n",
       "      <td>Yes</td>\n",
       "      <td>2014-07-16 14:59:18</td>\n",
       "    </tr>\n",
       "    <tr>\n",
       "      <th>1</th>\n",
       "      <td>2002-12-19 22:17:59</td>\n",
       "      <td>28</td>\n",
       "      <td>Yes</td>\n",
       "      <td>2002-12-19 22:17:59</td>\n",
       "    </tr>\n",
       "    <tr>\n",
       "      <th>2</th>\n",
       "      <td>1994-06-28 09:31:40</td>\n",
       "      <td>21</td>\n",
       "      <td>No</td>\n",
       "      <td>1994-06-28 09:31:40</td>\n",
       "    </tr>\n",
       "    <tr>\n",
       "      <th>3</th>\n",
       "      <td>1985-05-14 09:52:17</td>\n",
       "      <td>45</td>\n",
       "      <td>Yes</td>\n",
       "      <td>1985-05-14 09:52:17</td>\n",
       "    </tr>\n",
       "    <tr>\n",
       "      <th>4</th>\n",
       "      <td>1985-05-25 14:06:28</td>\n",
       "      <td>39</td>\n",
       "      <td>Yes</td>\n",
       "      <td>1985-05-25 14:06:28</td>\n",
       "    </tr>\n",
       "    <tr>\n",
       "      <th>...</th>\n",
       "      <td>...</td>\n",
       "      <td>...</td>\n",
       "      <td>...</td>\n",
       "      <td>...</td>\n",
       "    </tr>\n",
       "    <tr>\n",
       "      <th>995</th>\n",
       "      <td>1992-02-04 14:24:25</td>\n",
       "      <td>72</td>\n",
       "      <td>Yes</td>\n",
       "      <td>1992-02-04 14:24:25</td>\n",
       "    </tr>\n",
       "    <tr>\n",
       "      <th>996</th>\n",
       "      <td>1996-04-29 18:03:23</td>\n",
       "      <td>68</td>\n",
       "      <td>Yes</td>\n",
       "      <td>1996-04-29 18:03:23</td>\n",
       "    </tr>\n",
       "    <tr>\n",
       "      <th>997</th>\n",
       "      <td>1980-07-15 21:59:27</td>\n",
       "      <td>87</td>\n",
       "      <td>Yes</td>\n",
       "      <td>1980-07-15 21:59:27</td>\n",
       "    </tr>\n",
       "    <tr>\n",
       "      <th>998</th>\n",
       "      <td>1999-07-05 17:16:12</td>\n",
       "      <td>27</td>\n",
       "      <td>No</td>\n",
       "      <td>1999-07-05 17:16:12</td>\n",
       "    </tr>\n",
       "    <tr>\n",
       "      <th>999</th>\n",
       "      <td>1996-03-17 18:29:25</td>\n",
       "      <td>57</td>\n",
       "      <td>Yes</td>\n",
       "      <td>1996-03-17 18:29:25</td>\n",
       "    </tr>\n",
       "  </tbody>\n",
       "</table>\n",
       "<p>1000 rows × 4 columns</p>\n",
       "</div>"
      ],
      "text/plain": [
       "          Date of Arrest  Age Convicted                 DoA\n",
       "0    2014-07-16 14:59:18   77       Yes 2014-07-16 14:59:18\n",
       "1    2002-12-19 22:17:59   28       Yes 2002-12-19 22:17:59\n",
       "2    1994-06-28 09:31:40   21        No 1994-06-28 09:31:40\n",
       "3    1985-05-14 09:52:17   45       Yes 1985-05-14 09:52:17\n",
       "4    1985-05-25 14:06:28   39       Yes 1985-05-25 14:06:28\n",
       "..                   ...  ...       ...                 ...\n",
       "995  1992-02-04 14:24:25   72       Yes 1992-02-04 14:24:25\n",
       "996  1996-04-29 18:03:23   68       Yes 1996-04-29 18:03:23\n",
       "997  1980-07-15 21:59:27   87       Yes 1980-07-15 21:59:27\n",
       "998  1999-07-05 17:16:12   27        No 1999-07-05 17:16:12\n",
       "999  1996-03-17 18:29:25   57       Yes 1996-03-17 18:29:25\n",
       "\n",
       "[1000 rows x 4 columns]"
      ]
     },
     "execution_count": 71,
     "metadata": {},
     "output_type": "execute_result"
    }
   ],
   "source": [
    "df"
   ]
  },
  {
   "cell_type": "code",
   "execution_count": 72,
   "metadata": {},
   "outputs": [],
   "source": [
    "df = df.drop(columns=['Date of Arrest'])"
   ]
  },
  {
   "cell_type": "code",
   "execution_count": 73,
   "metadata": {},
   "outputs": [
    {
     "data": {
      "text/html": [
       "<div>\n",
       "<style scoped>\n",
       "    .dataframe tbody tr th:only-of-type {\n",
       "        vertical-align: middle;\n",
       "    }\n",
       "\n",
       "    .dataframe tbody tr th {\n",
       "        vertical-align: top;\n",
       "    }\n",
       "\n",
       "    .dataframe thead th {\n",
       "        text-align: right;\n",
       "    }\n",
       "</style>\n",
       "<table border=\"1\" class=\"dataframe\">\n",
       "  <thead>\n",
       "    <tr style=\"text-align: right;\">\n",
       "      <th></th>\n",
       "      <th>Age</th>\n",
       "      <th>Convicted</th>\n",
       "      <th>DoA</th>\n",
       "    </tr>\n",
       "  </thead>\n",
       "  <tbody>\n",
       "    <tr>\n",
       "      <th>0</th>\n",
       "      <td>77</td>\n",
       "      <td>Yes</td>\n",
       "      <td>2014-07-16 14:59:18</td>\n",
       "    </tr>\n",
       "    <tr>\n",
       "      <th>1</th>\n",
       "      <td>28</td>\n",
       "      <td>Yes</td>\n",
       "      <td>2002-12-19 22:17:59</td>\n",
       "    </tr>\n",
       "    <tr>\n",
       "      <th>2</th>\n",
       "      <td>21</td>\n",
       "      <td>No</td>\n",
       "      <td>1994-06-28 09:31:40</td>\n",
       "    </tr>\n",
       "    <tr>\n",
       "      <th>3</th>\n",
       "      <td>45</td>\n",
       "      <td>Yes</td>\n",
       "      <td>1985-05-14 09:52:17</td>\n",
       "    </tr>\n",
       "    <tr>\n",
       "      <th>4</th>\n",
       "      <td>39</td>\n",
       "      <td>Yes</td>\n",
       "      <td>1985-05-25 14:06:28</td>\n",
       "    </tr>\n",
       "    <tr>\n",
       "      <th>...</th>\n",
       "      <td>...</td>\n",
       "      <td>...</td>\n",
       "      <td>...</td>\n",
       "    </tr>\n",
       "    <tr>\n",
       "      <th>995</th>\n",
       "      <td>72</td>\n",
       "      <td>Yes</td>\n",
       "      <td>1992-02-04 14:24:25</td>\n",
       "    </tr>\n",
       "    <tr>\n",
       "      <th>996</th>\n",
       "      <td>68</td>\n",
       "      <td>Yes</td>\n",
       "      <td>1996-04-29 18:03:23</td>\n",
       "    </tr>\n",
       "    <tr>\n",
       "      <th>997</th>\n",
       "      <td>87</td>\n",
       "      <td>Yes</td>\n",
       "      <td>1980-07-15 21:59:27</td>\n",
       "    </tr>\n",
       "    <tr>\n",
       "      <th>998</th>\n",
       "      <td>27</td>\n",
       "      <td>No</td>\n",
       "      <td>1999-07-05 17:16:12</td>\n",
       "    </tr>\n",
       "    <tr>\n",
       "      <th>999</th>\n",
       "      <td>57</td>\n",
       "      <td>Yes</td>\n",
       "      <td>1996-03-17 18:29:25</td>\n",
       "    </tr>\n",
       "  </tbody>\n",
       "</table>\n",
       "<p>1000 rows × 3 columns</p>\n",
       "</div>"
      ],
      "text/plain": [
       "     Age Convicted                 DoA\n",
       "0     77       Yes 2014-07-16 14:59:18\n",
       "1     28       Yes 2002-12-19 22:17:59\n",
       "2     21        No 1994-06-28 09:31:40\n",
       "3     45       Yes 1985-05-14 09:52:17\n",
       "4     39       Yes 1985-05-25 14:06:28\n",
       "..   ...       ...                 ...\n",
       "995   72       Yes 1992-02-04 14:24:25\n",
       "996   68       Yes 1996-04-29 18:03:23\n",
       "997   87       Yes 1980-07-15 21:59:27\n",
       "998   27        No 1999-07-05 17:16:12\n",
       "999   57       Yes 1996-03-17 18:29:25\n",
       "\n",
       "[1000 rows x 3 columns]"
      ]
     },
     "execution_count": 73,
     "metadata": {},
     "output_type": "execute_result"
    }
   ],
   "source": [
    "df"
   ]
  },
  {
   "cell_type": "code",
   "execution_count": 74,
   "metadata": {},
   "outputs": [
    {
     "data": {
      "text/plain": [
       "0      2\n",
       "1      3\n",
       "2      1\n",
       "3      1\n",
       "4      5\n",
       "      ..\n",
       "995    1\n",
       "996    0\n",
       "997    1\n",
       "998    0\n",
       "999    6\n",
       "Name: DoA, Length: 1000, dtype: int64"
      ]
     },
     "execution_count": 74,
     "metadata": {},
     "output_type": "execute_result"
    }
   ],
   "source": [
    "df.DoA.dt.dayofweek"
   ]
  },
  {
   "cell_type": "markdown",
   "metadata": {},
   "source": [
    "### Méthode 1"
   ]
  },
  {
   "cell_type": "code",
   "execution_count": 75,
   "metadata": {},
   "outputs": [],
   "source": [
    "dow2weektime = {0: \"DEBUT\", 1: \"DEBUT\", 2: \"MILIEU\", 3: \"MILIEU\", 4: \"MILIEU\", 5: \"WEEKEND\", 6: \"WEEKEND\", }"
   ]
  },
  {
   "cell_type": "code",
   "execution_count": 76,
   "metadata": {},
   "outputs": [
    {
     "data": {
      "text/plain": [
       "0       MILIEU\n",
       "1       MILIEU\n",
       "2        DEBUT\n",
       "3        DEBUT\n",
       "4      WEEKEND\n",
       "        ...   \n",
       "995      DEBUT\n",
       "996      DEBUT\n",
       "997      DEBUT\n",
       "998      DEBUT\n",
       "999    WEEKEND\n",
       "Name: DoA, Length: 1000, dtype: object"
      ]
     },
     "execution_count": 76,
     "metadata": {},
     "output_type": "execute_result"
    }
   ],
   "source": [
    "df.DoA.dt.dayofweek.map(dow2weektime)"
   ]
  },
  {
   "cell_type": "markdown",
   "metadata": {},
   "source": [
    "### Méthode 2"
   ]
  },
  {
   "cell_type": "code",
   "execution_count": 77,
   "metadata": {},
   "outputs": [],
   "source": [
    "id2str = ['MONDAY', 'TUESDAY', 'WEDNESDAY', 'THURSDAY', 'FRIDAY', 'SATURDAY', 'SUNDAY']"
   ]
  },
  {
   "cell_type": "code",
   "execution_count": 78,
   "metadata": {},
   "outputs": [
    {
     "data": {
      "text/plain": [
       "['MONDAY', 'TUESDAY', 'WEDNESDAY', 'THURSDAY', 'FRIDAY', 'SATURDAY', 'SUNDAY']"
      ]
     },
     "execution_count": 78,
     "metadata": {},
     "output_type": "execute_result"
    }
   ],
   "source": [
    "id2str"
   ]
  },
  {
   "cell_type": "code",
   "execution_count": 79,
   "metadata": {},
   "outputs": [],
   "source": [
    "id2str = {value: i for i, value in enumerate(id2str)}"
   ]
  },
  {
   "cell_type": "code",
   "execution_count": 80,
   "metadata": {},
   "outputs": [
    {
     "data": {
      "text/plain": [
       "{'MONDAY': 0,\n",
       " 'TUESDAY': 1,\n",
       " 'WEDNESDAY': 2,\n",
       " 'THURSDAY': 3,\n",
       " 'FRIDAY': 4,\n",
       " 'SATURDAY': 5,\n",
       " 'SUNDAY': 6}"
      ]
     },
     "execution_count": 80,
     "metadata": {},
     "output_type": "execute_result"
    }
   ],
   "source": [
    "id2str"
   ]
  },
  {
   "cell_type": "code",
   "execution_count": 81,
   "metadata": {},
   "outputs": [
    {
     "data": {
      "text/plain": [
       "0"
      ]
     },
     "execution_count": 81,
     "metadata": {},
     "output_type": "execute_result"
    }
   ],
   "source": [
    "id2str['MONDAY']"
   ]
  },
  {
   "cell_type": "markdown",
   "metadata": {},
   "source": [
    "## Sauvegarder du contenu avec Pickle"
   ]
  },
  {
   "cell_type": "code",
   "execution_count": 82,
   "metadata": {},
   "outputs": [],
   "source": [
    "import pickle"
   ]
  },
  {
   "cell_type": "code",
   "execution_count": 83,
   "metadata": {},
   "outputs": [],
   "source": [
    "chemin_disque = 'dictionnaire.pkl'\n",
    "\n",
    "# En écriture\n",
    "with open(chemin_disque, 'wb') as f:\n",
    "    pickle.dump(id2str, f)\n",
    "    \n",
    "# En lecture\n",
    "with open(chemin_disque, 'rb') as f:\n",
    "    objet = pickle.load(f)"
   ]
  },
  {
   "cell_type": "code",
   "execution_count": 84,
   "metadata": {},
   "outputs": [
    {
     "data": {
      "text/plain": [
       "{'MONDAY': 0,\n",
       " 'TUESDAY': 1,\n",
       " 'WEDNESDAY': 2,\n",
       " 'THURSDAY': 3,\n",
       " 'FRIDAY': 4,\n",
       " 'SATURDAY': 5,\n",
       " 'SUNDAY': 6}"
      ]
     },
     "execution_count": 84,
     "metadata": {},
     "output_type": "execute_result"
    }
   ],
   "source": [
    "objet"
   ]
  },
  {
   "cell_type": "markdown",
   "metadata": {},
   "source": [
    "## Retour au cours"
   ]
  },
  {
   "cell_type": "code",
   "execution_count": 98,
   "metadata": {},
   "outputs": [],
   "source": [
    "str2id = {i: value for i, value in enumerate(id2str)}"
   ]
  },
  {
   "cell_type": "code",
   "execution_count": 103,
   "metadata": {},
   "outputs": [],
   "source": [
    "periode_semaine = {\"MONDAY\": \"DEBUT\", \n",
    "                   \"TUESDAY\": \"DEBUT\", \n",
    "                   \"WEDNESDAY\": \"MILIEU\", \n",
    "                   \"THURSDAY\": \"MILIEU\", \n",
    "                   \"FRIDAY\": \"MILIEU\", \n",
    "                   \"SATURDAY\": \"WEEKEND\", \n",
    "                   \"SUNDAY\": \"WEEKEND\"}"
   ]
  },
  {
   "cell_type": "code",
   "execution_count": 104,
   "metadata": {},
   "outputs": [
    {
     "data": {
      "text/plain": [
       "{'MONDAY': 'DEBUT',\n",
       " 'TUESDAY': 'DEBUT',\n",
       " 'WEDNESDAY': 'MILIEU',\n",
       " 'THURSDAY': 'MILIEU',\n",
       " 'FRIDAY': 'MILIEU',\n",
       " 'SATURDAY': 'WEEKEND',\n",
       " 'SUNDAY': 'WEEKEND'}"
      ]
     },
     "execution_count": 104,
     "metadata": {},
     "output_type": "execute_result"
    }
   ],
   "source": [
    "periode_semaine"
   ]
  },
  {
   "cell_type": "code",
   "execution_count": 105,
   "metadata": {},
   "outputs": [
    {
     "data": {
      "text/plain": [
       "{'MONDAY': 0,\n",
       " 'TUESDAY': 1,\n",
       " 'WEDNESDAY': 2,\n",
       " 'THURSDAY': 3,\n",
       " 'FRIDAY': 4,\n",
       " 'SATURDAY': 5,\n",
       " 'SUNDAY': 6}"
      ]
     },
     "execution_count": 105,
     "metadata": {},
     "output_type": "execute_result"
    }
   ],
   "source": [
    "id2str"
   ]
  },
  {
   "cell_type": "code",
   "execution_count": 106,
   "metadata": {},
   "outputs": [],
   "source": [
    "df['Période semaine'] = df.DoA.dt.dayofweek.map(id2str).map(periode_semaine)"
   ]
  },
  {
   "cell_type": "code",
   "execution_count": 107,
   "metadata": {},
   "outputs": [
    {
     "data": {
      "text/html": [
       "<div>\n",
       "<style scoped>\n",
       "    .dataframe tbody tr th:only-of-type {\n",
       "        vertical-align: middle;\n",
       "    }\n",
       "\n",
       "    .dataframe tbody tr th {\n",
       "        vertical-align: top;\n",
       "    }\n",
       "\n",
       "    .dataframe thead th {\n",
       "        text-align: right;\n",
       "    }\n",
       "</style>\n",
       "<table border=\"1\" class=\"dataframe\">\n",
       "  <thead>\n",
       "    <tr style=\"text-align: right;\">\n",
       "      <th></th>\n",
       "      <th>Age</th>\n",
       "      <th>Convicted</th>\n",
       "      <th>DoA</th>\n",
       "      <th>Période semaine</th>\n",
       "    </tr>\n",
       "  </thead>\n",
       "  <tbody>\n",
       "    <tr>\n",
       "      <th>0</th>\n",
       "      <td>77</td>\n",
       "      <td>Yes</td>\n",
       "      <td>2014-07-16 14:59:18</td>\n",
       "      <td>NaN</td>\n",
       "    </tr>\n",
       "    <tr>\n",
       "      <th>1</th>\n",
       "      <td>28</td>\n",
       "      <td>Yes</td>\n",
       "      <td>2002-12-19 22:17:59</td>\n",
       "      <td>NaN</td>\n",
       "    </tr>\n",
       "    <tr>\n",
       "      <th>2</th>\n",
       "      <td>21</td>\n",
       "      <td>No</td>\n",
       "      <td>1994-06-28 09:31:40</td>\n",
       "      <td>NaN</td>\n",
       "    </tr>\n",
       "    <tr>\n",
       "      <th>3</th>\n",
       "      <td>45</td>\n",
       "      <td>Yes</td>\n",
       "      <td>1985-05-14 09:52:17</td>\n",
       "      <td>NaN</td>\n",
       "    </tr>\n",
       "    <tr>\n",
       "      <th>4</th>\n",
       "      <td>39</td>\n",
       "      <td>Yes</td>\n",
       "      <td>1985-05-25 14:06:28</td>\n",
       "      <td>NaN</td>\n",
       "    </tr>\n",
       "    <tr>\n",
       "      <th>...</th>\n",
       "      <td>...</td>\n",
       "      <td>...</td>\n",
       "      <td>...</td>\n",
       "      <td>...</td>\n",
       "    </tr>\n",
       "    <tr>\n",
       "      <th>995</th>\n",
       "      <td>72</td>\n",
       "      <td>Yes</td>\n",
       "      <td>1992-02-04 14:24:25</td>\n",
       "      <td>NaN</td>\n",
       "    </tr>\n",
       "    <tr>\n",
       "      <th>996</th>\n",
       "      <td>68</td>\n",
       "      <td>Yes</td>\n",
       "      <td>1996-04-29 18:03:23</td>\n",
       "      <td>NaN</td>\n",
       "    </tr>\n",
       "    <tr>\n",
       "      <th>997</th>\n",
       "      <td>87</td>\n",
       "      <td>Yes</td>\n",
       "      <td>1980-07-15 21:59:27</td>\n",
       "      <td>NaN</td>\n",
       "    </tr>\n",
       "    <tr>\n",
       "      <th>998</th>\n",
       "      <td>27</td>\n",
       "      <td>No</td>\n",
       "      <td>1999-07-05 17:16:12</td>\n",
       "      <td>NaN</td>\n",
       "    </tr>\n",
       "    <tr>\n",
       "      <th>999</th>\n",
       "      <td>57</td>\n",
       "      <td>Yes</td>\n",
       "      <td>1996-03-17 18:29:25</td>\n",
       "      <td>NaN</td>\n",
       "    </tr>\n",
       "  </tbody>\n",
       "</table>\n",
       "<p>1000 rows × 4 columns</p>\n",
       "</div>"
      ],
      "text/plain": [
       "     Age Convicted                 DoA Période semaine\n",
       "0     77       Yes 2014-07-16 14:59:18             NaN\n",
       "1     28       Yes 2002-12-19 22:17:59             NaN\n",
       "2     21        No 1994-06-28 09:31:40             NaN\n",
       "3     45       Yes 1985-05-14 09:52:17             NaN\n",
       "4     39       Yes 1985-05-25 14:06:28             NaN\n",
       "..   ...       ...                 ...             ...\n",
       "995   72       Yes 1992-02-04 14:24:25             NaN\n",
       "996   68       Yes 1996-04-29 18:03:23             NaN\n",
       "997   87       Yes 1980-07-15 21:59:27             NaN\n",
       "998   27        No 1999-07-05 17:16:12             NaN\n",
       "999   57       Yes 1996-03-17 18:29:25             NaN\n",
       "\n",
       "[1000 rows x 4 columns]"
      ]
     },
     "execution_count": 107,
     "metadata": {},
     "output_type": "execute_result"
    }
   ],
   "source": [
    "df"
   ]
  },
  {
   "cell_type": "markdown",
   "metadata": {},
   "source": [
    "## Convertir ... ... ..."
   ]
  },
  {
   "cell_type": "code",
   "execution_count": 108,
   "metadata": {},
   "outputs": [
    {
     "data": {
      "text/plain": [
       "0      NaN\n",
       "1      NaN\n",
       "2      NaN\n",
       "3      NaN\n",
       "4      NaN\n",
       "      ... \n",
       "995    NaN\n",
       "996    NaN\n",
       "997    NaN\n",
       "998    NaN\n",
       "999    NaN\n",
       "Name: Période semaine, Length: 1000, dtype: category\n",
       "Categories (0, object): []"
      ]
     },
     "execution_count": 108,
     "metadata": {},
     "output_type": "execute_result"
    }
   ],
   "source": [
    "df['Période semaine'].astype('category')"
   ]
  },
  {
   "cell_type": "markdown",
   "metadata": {},
   "source": [
    "## Convertir la colonne en type \"category\" [ORDINAL]"
   ]
  },
  {
   "cell_type": "code",
   "execution_count": 109,
   "metadata": {},
   "outputs": [],
   "source": [
    "ordre = ['DEBUT', 'MILLIEU', 'WEEKEND']"
   ]
  },
  {
   "cell_type": "code",
   "execution_count": 112,
   "metadata": {},
   "outputs": [
    {
     "ename": "ValueError",
     "evalue": "items in new_categories are not the same as in old categories",
     "output_type": "error",
     "traceback": [
      "\u001b[1;31m---------------------------------------------------------------------------\u001b[0m",
      "\u001b[1;31mValueError\u001b[0m                                Traceback (most recent call last)",
      "\u001b[1;32m<ipython-input-112-555ba18de557>\u001b[0m in \u001b[0;36m<module>\u001b[1;34m\u001b[0m\n\u001b[1;32m----> 1\u001b[1;33m \u001b[0mdf\u001b[0m\u001b[1;33m[\u001b[0m\u001b[1;34m'Période semaine'\u001b[0m\u001b[1;33m]\u001b[0m \u001b[1;33m=\u001b[0m \u001b[0mdf\u001b[0m\u001b[1;33m[\u001b[0m\u001b[1;34m'Période semaine'\u001b[0m\u001b[1;33m]\u001b[0m\u001b[1;33m.\u001b[0m\u001b[0mastype\u001b[0m\u001b[1;33m(\u001b[0m\u001b[1;34m'category'\u001b[0m\u001b[1;33m)\u001b[0m\u001b[1;33m.\u001b[0m\u001b[0mcat\u001b[0m\u001b[1;33m.\u001b[0m\u001b[0mreorder_categories\u001b[0m\u001b[1;33m(\u001b[0m\u001b[0mordre\u001b[0m\u001b[1;33m)\u001b[0m\u001b[1;33m.\u001b[0m\u001b[0masordered\u001b[0m\u001b[1;33m(\u001b[0m\u001b[1;33m)\u001b[0m\u001b[1;33m\u001b[0m\u001b[1;33m\u001b[0m\u001b[0m\n\u001b[0m",
      "\u001b[1;32mc:\\users\\maxime\\appdata\\local\\programs\\python\\python38\\lib\\site-packages\\pandas\\core\\accessor.py\u001b[0m in \u001b[0;36mf\u001b[1;34m(self, *args, **kwargs)\u001b[0m\n\u001b[0;32m     97\u001b[0m         \u001b[1;32mdef\u001b[0m \u001b[0m_create_delegator_method\u001b[0m\u001b[1;33m(\u001b[0m\u001b[0mname\u001b[0m\u001b[1;33m)\u001b[0m\u001b[1;33m:\u001b[0m\u001b[1;33m\u001b[0m\u001b[1;33m\u001b[0m\u001b[0m\n\u001b[0;32m     98\u001b[0m             \u001b[1;32mdef\u001b[0m \u001b[0mf\u001b[0m\u001b[1;33m(\u001b[0m\u001b[0mself\u001b[0m\u001b[1;33m,\u001b[0m \u001b[1;33m*\u001b[0m\u001b[0margs\u001b[0m\u001b[1;33m,\u001b[0m \u001b[1;33m**\u001b[0m\u001b[0mkwargs\u001b[0m\u001b[1;33m)\u001b[0m\u001b[1;33m:\u001b[0m\u001b[1;33m\u001b[0m\u001b[1;33m\u001b[0m\u001b[0m\n\u001b[1;32m---> 99\u001b[1;33m                 \u001b[1;32mreturn\u001b[0m \u001b[0mself\u001b[0m\u001b[1;33m.\u001b[0m\u001b[0m_delegate_method\u001b[0m\u001b[1;33m(\u001b[0m\u001b[0mname\u001b[0m\u001b[1;33m,\u001b[0m \u001b[1;33m*\u001b[0m\u001b[0margs\u001b[0m\u001b[1;33m,\u001b[0m \u001b[1;33m**\u001b[0m\u001b[0mkwargs\u001b[0m\u001b[1;33m)\u001b[0m\u001b[1;33m\u001b[0m\u001b[1;33m\u001b[0m\u001b[0m\n\u001b[0m\u001b[0;32m    100\u001b[0m \u001b[1;33m\u001b[0m\u001b[0m\n\u001b[0;32m    101\u001b[0m             \u001b[0mf\u001b[0m\u001b[1;33m.\u001b[0m\u001b[0m__name__\u001b[0m \u001b[1;33m=\u001b[0m \u001b[0mname\u001b[0m\u001b[1;33m\u001b[0m\u001b[1;33m\u001b[0m\u001b[0m\n",
      "\u001b[1;32mc:\\users\\maxime\\appdata\\local\\programs\\python\\python38\\lib\\site-packages\\pandas\\core\\arrays\\categorical.py\u001b[0m in \u001b[0;36m_delegate_method\u001b[1;34m(self, name, *args, **kwargs)\u001b[0m\n\u001b[0;32m   2589\u001b[0m \u001b[1;33m\u001b[0m\u001b[0m\n\u001b[0;32m   2590\u001b[0m         \u001b[0mmethod\u001b[0m \u001b[1;33m=\u001b[0m \u001b[0mgetattr\u001b[0m\u001b[1;33m(\u001b[0m\u001b[0mself\u001b[0m\u001b[1;33m.\u001b[0m\u001b[0m_parent\u001b[0m\u001b[1;33m,\u001b[0m \u001b[0mname\u001b[0m\u001b[1;33m)\u001b[0m\u001b[1;33m\u001b[0m\u001b[1;33m\u001b[0m\u001b[0m\n\u001b[1;32m-> 2591\u001b[1;33m         \u001b[0mres\u001b[0m \u001b[1;33m=\u001b[0m \u001b[0mmethod\u001b[0m\u001b[1;33m(\u001b[0m\u001b[1;33m*\u001b[0m\u001b[0margs\u001b[0m\u001b[1;33m,\u001b[0m \u001b[1;33m**\u001b[0m\u001b[0mkwargs\u001b[0m\u001b[1;33m)\u001b[0m\u001b[1;33m\u001b[0m\u001b[1;33m\u001b[0m\u001b[0m\n\u001b[0m\u001b[0;32m   2592\u001b[0m         \u001b[1;32mif\u001b[0m \u001b[0mres\u001b[0m \u001b[1;32mis\u001b[0m \u001b[1;32mnot\u001b[0m \u001b[1;32mNone\u001b[0m\u001b[1;33m:\u001b[0m\u001b[1;33m\u001b[0m\u001b[1;33m\u001b[0m\u001b[0m\n\u001b[0;32m   2593\u001b[0m             \u001b[1;32mreturn\u001b[0m \u001b[0mSeries\u001b[0m\u001b[1;33m(\u001b[0m\u001b[0mres\u001b[0m\u001b[1;33m,\u001b[0m \u001b[0mindex\u001b[0m\u001b[1;33m=\u001b[0m\u001b[0mself\u001b[0m\u001b[1;33m.\u001b[0m\u001b[0m_index\u001b[0m\u001b[1;33m,\u001b[0m \u001b[0mname\u001b[0m\u001b[1;33m=\u001b[0m\u001b[0mself\u001b[0m\u001b[1;33m.\u001b[0m\u001b[0m_name\u001b[0m\u001b[1;33m)\u001b[0m\u001b[1;33m\u001b[0m\u001b[1;33m\u001b[0m\u001b[0m\n",
      "\u001b[1;32mc:\\users\\maxime\\appdata\\local\\programs\\python\\python38\\lib\\site-packages\\pandas\\core\\arrays\\categorical.py\u001b[0m in \u001b[0;36mreorder_categories\u001b[1;34m(self, new_categories, ordered, inplace)\u001b[0m\n\u001b[0;32m    947\u001b[0m         \u001b[0minplace\u001b[0m \u001b[1;33m=\u001b[0m \u001b[0mvalidate_bool_kwarg\u001b[0m\u001b[1;33m(\u001b[0m\u001b[0minplace\u001b[0m\u001b[1;33m,\u001b[0m \u001b[1;34m\"inplace\"\u001b[0m\u001b[1;33m)\u001b[0m\u001b[1;33m\u001b[0m\u001b[1;33m\u001b[0m\u001b[0m\n\u001b[0;32m    948\u001b[0m         \u001b[1;32mif\u001b[0m \u001b[0mset\u001b[0m\u001b[1;33m(\u001b[0m\u001b[0mself\u001b[0m\u001b[1;33m.\u001b[0m\u001b[0mdtype\u001b[0m\u001b[1;33m.\u001b[0m\u001b[0mcategories\u001b[0m\u001b[1;33m)\u001b[0m \u001b[1;33m!=\u001b[0m \u001b[0mset\u001b[0m\u001b[1;33m(\u001b[0m\u001b[0mnew_categories\u001b[0m\u001b[1;33m)\u001b[0m\u001b[1;33m:\u001b[0m\u001b[1;33m\u001b[0m\u001b[1;33m\u001b[0m\u001b[0m\n\u001b[1;32m--> 949\u001b[1;33m             raise ValueError(\n\u001b[0m\u001b[0;32m    950\u001b[0m                 \u001b[1;34m\"items in new_categories are not the same as in old categories\"\u001b[0m\u001b[1;33m\u001b[0m\u001b[1;33m\u001b[0m\u001b[0m\n\u001b[0;32m    951\u001b[0m             )\n",
      "\u001b[1;31mValueError\u001b[0m: items in new_categories are not the same as in old categories"
     ]
    }
   ],
   "source": [
    "df['Période semaine'] = df['Période semaine'].astype('category').cat.reorder_categories(ordre).asordered()"
   ]
  },
  {
   "cell_type": "markdown",
   "metadata": {},
   "source": [
    "## convertir la colonne \"category\" en \"int\" [ORDINAL]"
   ]
  },
  {
   "cell_type": "code",
   "execution_count": 113,
   "metadata": {},
   "outputs": [
    {
     "ename": "AttributeError",
     "evalue": "Can only use .cat accessor with a 'category' dtype",
     "output_type": "error",
     "traceback": [
      "\u001b[1;31m---------------------------------------------------------------------------\u001b[0m",
      "\u001b[1;31mAttributeError\u001b[0m                            Traceback (most recent call last)",
      "\u001b[1;32m<ipython-input-113-9c99a609ba72>\u001b[0m in \u001b[0;36m<module>\u001b[1;34m\u001b[0m\n\u001b[1;32m----> 1\u001b[1;33m \u001b[0mdf\u001b[0m\u001b[1;33m[\u001b[0m\u001b[1;34m'Période semaine'\u001b[0m\u001b[1;33m]\u001b[0m \u001b[1;33m=\u001b[0m \u001b[0mdf\u001b[0m\u001b[1;33m[\u001b[0m\u001b[1;34m'Période semaine'\u001b[0m\u001b[1;33m]\u001b[0m\u001b[1;33m.\u001b[0m\u001b[0mcat\u001b[0m\u001b[1;33m.\u001b[0m\u001b[0mcodes\u001b[0m\u001b[1;33m\u001b[0m\u001b[1;33m\u001b[0m\u001b[0m\n\u001b[0m",
      "\u001b[1;32mc:\\users\\maxime\\appdata\\local\\programs\\python\\python38\\lib\\site-packages\\pandas\\core\\generic.py\u001b[0m in \u001b[0;36m__getattr__\u001b[1;34m(self, name)\u001b[0m\n\u001b[0;32m   5130\u001b[0m             \u001b[1;32mor\u001b[0m \u001b[0mname\u001b[0m \u001b[1;32min\u001b[0m \u001b[0mself\u001b[0m\u001b[1;33m.\u001b[0m\u001b[0m_accessors\u001b[0m\u001b[1;33m\u001b[0m\u001b[1;33m\u001b[0m\u001b[0m\n\u001b[0;32m   5131\u001b[0m         ):\n\u001b[1;32m-> 5132\u001b[1;33m             \u001b[1;32mreturn\u001b[0m \u001b[0mobject\u001b[0m\u001b[1;33m.\u001b[0m\u001b[0m__getattribute__\u001b[0m\u001b[1;33m(\u001b[0m\u001b[0mself\u001b[0m\u001b[1;33m,\u001b[0m \u001b[0mname\u001b[0m\u001b[1;33m)\u001b[0m\u001b[1;33m\u001b[0m\u001b[1;33m\u001b[0m\u001b[0m\n\u001b[0m\u001b[0;32m   5133\u001b[0m         \u001b[1;32melse\u001b[0m\u001b[1;33m:\u001b[0m\u001b[1;33m\u001b[0m\u001b[1;33m\u001b[0m\u001b[0m\n\u001b[0;32m   5134\u001b[0m             \u001b[1;32mif\u001b[0m \u001b[0mself\u001b[0m\u001b[1;33m.\u001b[0m\u001b[0m_info_axis\u001b[0m\u001b[1;33m.\u001b[0m\u001b[0m_can_hold_identifiers_and_holds_name\u001b[0m\u001b[1;33m(\u001b[0m\u001b[0mname\u001b[0m\u001b[1;33m)\u001b[0m\u001b[1;33m:\u001b[0m\u001b[1;33m\u001b[0m\u001b[1;33m\u001b[0m\u001b[0m\n",
      "\u001b[1;32mc:\\users\\maxime\\appdata\\local\\programs\\python\\python38\\lib\\site-packages\\pandas\\core\\accessor.py\u001b[0m in \u001b[0;36m__get__\u001b[1;34m(self, obj, cls)\u001b[0m\n\u001b[0;32m    185\u001b[0m             \u001b[1;31m# we're accessing the attribute of the class, i.e., Dataset.geo\u001b[0m\u001b[1;33m\u001b[0m\u001b[1;33m\u001b[0m\u001b[1;33m\u001b[0m\u001b[0m\n\u001b[0;32m    186\u001b[0m             \u001b[1;32mreturn\u001b[0m \u001b[0mself\u001b[0m\u001b[1;33m.\u001b[0m\u001b[0m_accessor\u001b[0m\u001b[1;33m\u001b[0m\u001b[1;33m\u001b[0m\u001b[0m\n\u001b[1;32m--> 187\u001b[1;33m         \u001b[0maccessor_obj\u001b[0m \u001b[1;33m=\u001b[0m \u001b[0mself\u001b[0m\u001b[1;33m.\u001b[0m\u001b[0m_accessor\u001b[0m\u001b[1;33m(\u001b[0m\u001b[0mobj\u001b[0m\u001b[1;33m)\u001b[0m\u001b[1;33m\u001b[0m\u001b[1;33m\u001b[0m\u001b[0m\n\u001b[0m\u001b[0;32m    188\u001b[0m         \u001b[1;31m# Replace the property with the accessor object. Inspired by:\u001b[0m\u001b[1;33m\u001b[0m\u001b[1;33m\u001b[0m\u001b[1;33m\u001b[0m\u001b[0m\n\u001b[0;32m    189\u001b[0m         \u001b[1;31m# https://www.pydanny.com/cached-property.html\u001b[0m\u001b[1;33m\u001b[0m\u001b[1;33m\u001b[0m\u001b[1;33m\u001b[0m\u001b[0m\n",
      "\u001b[1;32mc:\\users\\maxime\\appdata\\local\\programs\\python\\python38\\lib\\site-packages\\pandas\\core\\arrays\\categorical.py\u001b[0m in \u001b[0;36m__init__\u001b[1;34m(self, data)\u001b[0m\n\u001b[0;32m   2559\u001b[0m \u001b[1;33m\u001b[0m\u001b[0m\n\u001b[0;32m   2560\u001b[0m     \u001b[1;32mdef\u001b[0m \u001b[0m__init__\u001b[0m\u001b[1;33m(\u001b[0m\u001b[0mself\u001b[0m\u001b[1;33m,\u001b[0m \u001b[0mdata\u001b[0m\u001b[1;33m)\u001b[0m\u001b[1;33m:\u001b[0m\u001b[1;33m\u001b[0m\u001b[1;33m\u001b[0m\u001b[0m\n\u001b[1;32m-> 2561\u001b[1;33m         \u001b[0mself\u001b[0m\u001b[1;33m.\u001b[0m\u001b[0m_validate\u001b[0m\u001b[1;33m(\u001b[0m\u001b[0mdata\u001b[0m\u001b[1;33m)\u001b[0m\u001b[1;33m\u001b[0m\u001b[1;33m\u001b[0m\u001b[0m\n\u001b[0m\u001b[0;32m   2562\u001b[0m         \u001b[0mself\u001b[0m\u001b[1;33m.\u001b[0m\u001b[0m_parent\u001b[0m \u001b[1;33m=\u001b[0m \u001b[0mdata\u001b[0m\u001b[1;33m.\u001b[0m\u001b[0mvalues\u001b[0m\u001b[1;33m\u001b[0m\u001b[1;33m\u001b[0m\u001b[0m\n\u001b[0;32m   2563\u001b[0m         \u001b[0mself\u001b[0m\u001b[1;33m.\u001b[0m\u001b[0m_index\u001b[0m \u001b[1;33m=\u001b[0m \u001b[0mdata\u001b[0m\u001b[1;33m.\u001b[0m\u001b[0mindex\u001b[0m\u001b[1;33m\u001b[0m\u001b[1;33m\u001b[0m\u001b[0m\n",
      "\u001b[1;32mc:\\users\\maxime\\appdata\\local\\programs\\python\\python38\\lib\\site-packages\\pandas\\core\\arrays\\categorical.py\u001b[0m in \u001b[0;36m_validate\u001b[1;34m(data)\u001b[0m\n\u001b[0;32m   2568\u001b[0m     \u001b[1;32mdef\u001b[0m \u001b[0m_validate\u001b[0m\u001b[1;33m(\u001b[0m\u001b[0mdata\u001b[0m\u001b[1;33m)\u001b[0m\u001b[1;33m:\u001b[0m\u001b[1;33m\u001b[0m\u001b[1;33m\u001b[0m\u001b[0m\n\u001b[0;32m   2569\u001b[0m         \u001b[1;32mif\u001b[0m \u001b[1;32mnot\u001b[0m \u001b[0mis_categorical_dtype\u001b[0m\u001b[1;33m(\u001b[0m\u001b[0mdata\u001b[0m\u001b[1;33m.\u001b[0m\u001b[0mdtype\u001b[0m\u001b[1;33m)\u001b[0m\u001b[1;33m:\u001b[0m\u001b[1;33m\u001b[0m\u001b[1;33m\u001b[0m\u001b[0m\n\u001b[1;32m-> 2570\u001b[1;33m             \u001b[1;32mraise\u001b[0m \u001b[0mAttributeError\u001b[0m\u001b[1;33m(\u001b[0m\u001b[1;34m\"Can only use .cat accessor with a 'category' dtype\"\u001b[0m\u001b[1;33m)\u001b[0m\u001b[1;33m\u001b[0m\u001b[1;33m\u001b[0m\u001b[0m\n\u001b[0m\u001b[0;32m   2571\u001b[0m \u001b[1;33m\u001b[0m\u001b[0m\n\u001b[0;32m   2572\u001b[0m     \u001b[1;32mdef\u001b[0m \u001b[0m_delegate_property_get\u001b[0m\u001b[1;33m(\u001b[0m\u001b[0mself\u001b[0m\u001b[1;33m,\u001b[0m \u001b[0mname\u001b[0m\u001b[1;33m)\u001b[0m\u001b[1;33m:\u001b[0m\u001b[1;33m\u001b[0m\u001b[1;33m\u001b[0m\u001b[0m\n",
      "\u001b[1;31mAttributeError\u001b[0m: Can only use .cat accessor with a 'category' dtype"
     ]
    }
   ],
   "source": [
    "df['Période semaine'] = df['Période semaine'].cat.codes"
   ]
  },
  {
   "cell_type": "markdown",
   "metadata": {},
   "source": [
    "# Gérer les cycles (saisons) :"
   ]
  },
  {
   "cell_type": "code",
   "execution_count": 192,
   "metadata": {},
   "outputs": [
    {
     "data": {
      "text/plain": [
       "DoA          object\n",
       "Age           int64\n",
       "Convicted    object\n",
       "dtype: object"
      ]
     },
     "execution_count": 192,
     "metadata": {},
     "output_type": "execute_result"
    }
   ],
   "source": [
    "import pandas as pd\n",
    "fp = 'https://bit.ly/felonies-dataset'\n",
    "df = pd.read_csv(fp)\n",
    "\n",
    "df.rename(columns = {'Date of Arrest': 'DoA'}, inplace = True)\n",
    "\n",
    "df.dtypes"
   ]
  },
  {
   "cell_type": "code",
   "execution_count": 193,
   "metadata": {},
   "outputs": [],
   "source": [
    "df.DoA = pd.to_datetime(df.DoA)"
   ]
  },
  {
   "cell_type": "code",
   "execution_count": 194,
   "metadata": {},
   "outputs": [
    {
     "data": {
      "text/plain": [
       "0      16\n",
       "1      19\n",
       "2      28\n",
       "3      14\n",
       "4      25\n",
       "       ..\n",
       "995     4\n",
       "996    29\n",
       "997    15\n",
       "998     5\n",
       "999    17\n",
       "Name: DoA, Length: 1000, dtype: int64"
      ]
     },
     "execution_count": 194,
     "metadata": {},
     "output_type": "execute_result"
    }
   ],
   "source": [
    "df.DoA.dt.day"
   ]
  },
  {
   "cell_type": "code",
   "execution_count": 195,
   "metadata": {},
   "outputs": [
    {
     "data": {
      "text/plain": [
       "0       7\n",
       "1      12\n",
       "2       6\n",
       "3       5\n",
       "4       5\n",
       "       ..\n",
       "995     2\n",
       "996     4\n",
       "997     7\n",
       "998     7\n",
       "999     3\n",
       "Name: DoA, Length: 1000, dtype: int64"
      ]
     },
     "execution_count": 195,
     "metadata": {},
     "output_type": "execute_result"
    }
   ],
   "source": [
    "df.DoA.dt.month"
   ]
  },
  {
   "cell_type": "code",
   "execution_count": 196,
   "metadata": {},
   "outputs": [
    {
     "name": "stdout",
     "output_type": "stream",
     "text": [
      "1\n",
      "31\n",
      "1\n",
      "12\n"
     ]
    }
   ],
   "source": [
    "print(df.DoA.dt.day.min())\n",
    "print(df.DoA.dt.day.max())\n",
    "print(df.DoA.dt.month.min())\n",
    "print(df.DoA.dt.month.max())"
   ]
  },
  {
   "cell_type": "code",
   "execution_count": 197,
   "metadata": {},
   "outputs": [
    {
     "data": {
      "text/plain": [
       "0       716\n",
       "1      1219\n",
       "2       628\n",
       "3       514\n",
       "4       525\n",
       "       ... \n",
       "995     204\n",
       "996     429\n",
       "997     715\n",
       "998     705\n",
       "999     317\n",
       "Name: DoA, Length: 1000, dtype: int64"
      ]
     },
     "execution_count": 197,
     "metadata": {},
     "output_type": "execute_result"
    }
   ],
   "source": [
    "colonne_temporaire = df.DoA.dt.month * 100 + df.DoA.dt.day\n",
    "colonne_temporaire"
   ]
  },
  {
   "cell_type": "code",
   "execution_count": 198,
   "metadata": {},
   "outputs": [],
   "source": [
    "AVANT_JANVIER = 0\n",
    "AVANT_PRINTEMPS = 320\n",
    "AVANT_ETE = 620\n",
    "AVANT_AUTOMNE = 920\n",
    "AVANT_HIVERS = 1220\n",
    "FIN_ANNEE = 1232\n",
    "\n",
    "bins = [AVANT_JANVIER, AVANT_PRINTEMPS, AVANT_ETE, AVANT_AUTOMNE, AVANT_HIVERS, FIN_ANNEE]\n",
    "labels = ['HIVER', 'PRINTEMPS', 'ETE', 'AUTOMNE', 'HIVER2']\n",
    "\n",
    "saisons = pd.cut(colonne_temporaire, bins = bins, labels = labels)"
   ]
  },
  {
   "cell_type": "code",
   "execution_count": 199,
   "metadata": {},
   "outputs": [
    {
     "data": {
      "text/plain": [
       "array(['ETE', 'AUTOMNE', 'PRINTEMPS', 'HIVER'], dtype=object)"
      ]
     },
     "execution_count": 199,
     "metadata": {},
     "output_type": "execute_result"
    }
   ],
   "source": [
    "saisons = saisons.str.replace('2', '')\n",
    "saisons.unique()"
   ]
  },
  {
   "cell_type": "code",
   "execution_count": 200,
   "metadata": {},
   "outputs": [
    {
     "data": {
      "text/plain": [
       "0          ETE\n",
       "1      AUTOMNE\n",
       "2          ETE\n",
       "3    PRINTEMPS\n",
       "4    PRINTEMPS\n",
       "Name: DoA, dtype: object"
      ]
     },
     "execution_count": 200,
     "metadata": {},
     "output_type": "execute_result"
    }
   ],
   "source": [
    "saisons.head()"
   ]
  },
  {
   "cell_type": "code",
   "execution_count": 201,
   "metadata": {},
   "outputs": [],
   "source": [
    "ordre = ['AUTOMNE', 'HIVER', 'PRINTEMPS', 'ETE']\n",
    "saisons = (saisons.astype('category').\n",
    "           cat.as_ordered().\n",
    "           cat.reorder_categories(ordre))"
   ]
  },
  {
   "cell_type": "code",
   "execution_count": 202,
   "metadata": {},
   "outputs": [
    {
     "data": {
      "text/plain": [
       "0          ETE\n",
       "1      AUTOMNE\n",
       "2          ETE\n",
       "3    PRINTEMPS\n",
       "4    PRINTEMPS\n",
       "Name: DoA, dtype: category\n",
       "Categories (4, object): ['AUTOMNE' < 'HIVER' < 'PRINTEMPS' < 'ETE']"
      ]
     },
     "execution_count": 202,
     "metadata": {},
     "output_type": "execute_result"
    }
   ],
   "source": [
    "saisons.head()"
   ]
  },
  {
   "cell_type": "markdown",
   "metadata": {},
   "source": [
    "# Exerice : gestion des cycles (horaires)"
   ]
  },
  {
   "cell_type": "code",
   "execution_count": 209,
   "metadata": {},
   "outputs": [
    {
     "data": {
      "text/plain": [
       "DoA          object\n",
       "Age           int64\n",
       "Convicted    object\n",
       "dtype: object"
      ]
     },
     "execution_count": 209,
     "metadata": {},
     "output_type": "execute_result"
    }
   ],
   "source": [
    "import pandas as pd\n",
    "fp = 'https://bit.ly/felonies-dataset'\n",
    "df = pd.read_csv(fp)\n",
    "\n",
    "df.rename(columns = {'Date of Arrest': 'DoA'}, inplace = True)\n",
    "\n",
    "df.dtypes"
   ]
  },
  {
   "cell_type": "code",
   "execution_count": 210,
   "metadata": {},
   "outputs": [],
   "source": [
    "df.DoA = pd.to_datetime(df.DoA)"
   ]
  },
  {
   "cell_type": "code",
   "execution_count": 211,
   "metadata": {},
   "outputs": [
    {
     "data": {
      "text/plain": [
       "0      1459\n",
       "1      2217\n",
       "2       931\n",
       "3       952\n",
       "4      1406\n",
       "       ... \n",
       "995    1424\n",
       "996    1803\n",
       "997    2159\n",
       "998    1716\n",
       "999    1829\n",
       "Name: DoA, Length: 1000, dtype: int64"
      ]
     },
     "execution_count": 211,
     "metadata": {},
     "output_type": "execute_result"
    }
   ],
   "source": [
    "colonne_temporaire = df.DoA.dt.hour * 100 + df.DoA.dt.minute\n",
    "colonne_temporaire"
   ]
  },
  {
   "cell_type": "code",
   "execution_count": 212,
   "metadata": {},
   "outputs": [],
   "source": [
    "DEBUT_JOURNEE = -1\n",
    "AVANT_NUIT = 325\n",
    "AVANT_MATIN = 1613\n",
    "AVANT_AM = 2212\n",
    "FIN_JOURNEE = 2400\n",
    "\n",
    "bins = [DEBUT_JOURNEE, AVANT_NUIT, AVANT_MATIN, AVANT_AM, FIN_JOURNEE]\n",
    "labels = ['NUIT', 'MATIN', 'AM', 'NUIT2']\n",
    "\n",
    "periodes = pd.cut(colonne_temporaire, bins = bins, labels = labels)"
   ]
  },
  {
   "cell_type": "code",
   "execution_count": 213,
   "metadata": {},
   "outputs": [
    {
     "data": {
      "text/plain": [
       "array(['MATIN', 'NUIT', 'AM'], dtype=object)"
      ]
     },
     "execution_count": 213,
     "metadata": {},
     "output_type": "execute_result"
    }
   ],
   "source": [
    "periodes = periodes.str.replace('2', '')\n",
    "periodes.unique()"
   ]
  },
  {
   "cell_type": "code",
   "execution_count": 215,
   "metadata": {},
   "outputs": [
    {
     "data": {
      "text/plain": [
       "0    MATIN\n",
       "1     NUIT\n",
       "2    MATIN\n",
       "3    MATIN\n",
       "4    MATIN\n",
       "Name: DoA, dtype: object"
      ]
     },
     "execution_count": 215,
     "metadata": {},
     "output_type": "execute_result"
    }
   ],
   "source": [
    "periodes.head()"
   ]
  },
  {
   "cell_type": "code",
   "execution_count": 216,
   "metadata": {},
   "outputs": [],
   "source": [
    "ordre = ['NUIT', 'MATIN', 'AM']\n",
    "periodes = (periodes.astype('category').\n",
    "           cat.as_ordered().\n",
    "           cat.reorder_categories(ordre))"
   ]
  },
  {
   "cell_type": "code",
   "execution_count": 217,
   "metadata": {},
   "outputs": [
    {
     "data": {
      "text/plain": [
       "0    MATIN\n",
       "1     NUIT\n",
       "2    MATIN\n",
       "3    MATIN\n",
       "4    MATIN\n",
       "Name: DoA, dtype: category\n",
       "Categories (3, object): ['NUIT' < 'MATIN' < 'AM']"
      ]
     },
     "execution_count": 217,
     "metadata": {},
     "output_type": "execute_result"
    }
   ],
   "source": [
    "periodes.head()"
   ]
  },
  {
   "cell_type": "code",
   "execution_count": 218,
   "metadata": {},
   "outputs": [
    {
     "data": {
      "text/plain": [
       "0      1459\n",
       "1      2217\n",
       "2       931\n",
       "3       952\n",
       "4      1406\n",
       "       ... \n",
       "995    1424\n",
       "996    1803\n",
       "997    2159\n",
       "998    1716\n",
       "999    1829\n",
       "Name: DoA, Length: 1000, dtype: int64"
      ]
     },
     "execution_count": 218,
     "metadata": {},
     "output_type": "execute_result"
    }
   ],
   "source": [
    "colonne_temporaire"
   ]
  },
  {
   "cell_type": "code",
   "execution_count": 219,
   "metadata": {},
   "outputs": [
    {
     "data": {
      "text/html": [
       "<div>\n",
       "<style scoped>\n",
       "    .dataframe tbody tr th:only-of-type {\n",
       "        vertical-align: middle;\n",
       "    }\n",
       "\n",
       "    .dataframe tbody tr th {\n",
       "        vertical-align: top;\n",
       "    }\n",
       "\n",
       "    .dataframe thead th {\n",
       "        text-align: right;\n",
       "    }\n",
       "</style>\n",
       "<table border=\"1\" class=\"dataframe\">\n",
       "  <thead>\n",
       "    <tr style=\"text-align: right;\">\n",
       "      <th></th>\n",
       "      <th>DoA</th>\n",
       "      <th>Age</th>\n",
       "      <th>Convicted</th>\n",
       "    </tr>\n",
       "  </thead>\n",
       "  <tbody>\n",
       "    <tr>\n",
       "      <th>0</th>\n",
       "      <td>2014-07-16 14:59:18</td>\n",
       "      <td>77</td>\n",
       "      <td>Yes</td>\n",
       "    </tr>\n",
       "    <tr>\n",
       "      <th>1</th>\n",
       "      <td>2002-12-19 22:17:59</td>\n",
       "      <td>28</td>\n",
       "      <td>Yes</td>\n",
       "    </tr>\n",
       "    <tr>\n",
       "      <th>2</th>\n",
       "      <td>1994-06-28 09:31:40</td>\n",
       "      <td>21</td>\n",
       "      <td>No</td>\n",
       "    </tr>\n",
       "    <tr>\n",
       "      <th>3</th>\n",
       "      <td>1985-05-14 09:52:17</td>\n",
       "      <td>45</td>\n",
       "      <td>Yes</td>\n",
       "    </tr>\n",
       "    <tr>\n",
       "      <th>4</th>\n",
       "      <td>1985-05-25 14:06:28</td>\n",
       "      <td>39</td>\n",
       "      <td>Yes</td>\n",
       "    </tr>\n",
       "    <tr>\n",
       "      <th>...</th>\n",
       "      <td>...</td>\n",
       "      <td>...</td>\n",
       "      <td>...</td>\n",
       "    </tr>\n",
       "    <tr>\n",
       "      <th>995</th>\n",
       "      <td>1992-02-04 14:24:25</td>\n",
       "      <td>72</td>\n",
       "      <td>Yes</td>\n",
       "    </tr>\n",
       "    <tr>\n",
       "      <th>996</th>\n",
       "      <td>1996-04-29 18:03:23</td>\n",
       "      <td>68</td>\n",
       "      <td>Yes</td>\n",
       "    </tr>\n",
       "    <tr>\n",
       "      <th>997</th>\n",
       "      <td>1980-07-15 21:59:27</td>\n",
       "      <td>87</td>\n",
       "      <td>Yes</td>\n",
       "    </tr>\n",
       "    <tr>\n",
       "      <th>998</th>\n",
       "      <td>1999-07-05 17:16:12</td>\n",
       "      <td>27</td>\n",
       "      <td>No</td>\n",
       "    </tr>\n",
       "    <tr>\n",
       "      <th>999</th>\n",
       "      <td>1996-03-17 18:29:25</td>\n",
       "      <td>57</td>\n",
       "      <td>Yes</td>\n",
       "    </tr>\n",
       "  </tbody>\n",
       "</table>\n",
       "<p>1000 rows × 3 columns</p>\n",
       "</div>"
      ],
      "text/plain": [
       "                    DoA  Age Convicted\n",
       "0   2014-07-16 14:59:18   77       Yes\n",
       "1   2002-12-19 22:17:59   28       Yes\n",
       "2   1994-06-28 09:31:40   21        No\n",
       "3   1985-05-14 09:52:17   45       Yes\n",
       "4   1985-05-25 14:06:28   39       Yes\n",
       "..                  ...  ...       ...\n",
       "995 1992-02-04 14:24:25   72       Yes\n",
       "996 1996-04-29 18:03:23   68       Yes\n",
       "997 1980-07-15 21:59:27   87       Yes\n",
       "998 1999-07-05 17:16:12   27        No\n",
       "999 1996-03-17 18:29:25   57       Yes\n",
       "\n",
       "[1000 rows x 3 columns]"
      ]
     },
     "execution_count": 219,
     "metadata": {},
     "output_type": "execute_result"
    }
   ],
   "source": [
    "df"
   ]
  },
  {
   "cell_type": "code",
   "execution_count": null,
   "metadata": {},
   "outputs": [],
   "source": []
  }
 ],
 "metadata": {
  "kernelspec": {
   "display_name": "Python 3",
   "language": "python",
   "name": "python3"
  },
  "language_info": {
   "codemirror_mode": {
    "name": "ipython",
    "version": 3
   },
   "file_extension": ".py",
   "mimetype": "text/x-python",
   "name": "python",
   "nbconvert_exporter": "python",
   "pygments_lexer": "ipython3",
   "version": "3.8.3"
  }
 },
 "nbformat": 4,
 "nbformat_minor": 4
}
