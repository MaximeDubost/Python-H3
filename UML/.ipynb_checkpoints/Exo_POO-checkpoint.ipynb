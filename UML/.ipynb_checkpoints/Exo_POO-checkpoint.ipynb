{
 "cells": [
  {
   "cell_type": "markdown",
   "metadata": {},
   "source": [
    "### Le compte bancaire"
   ]
  },
  {
   "cell_type": "code",
   "execution_count": 95,
   "metadata": {},
   "outputs": [],
   "source": [
    "class CompteBancaire():\n",
    "    nom: str\n",
    "    solde: int\n",
    "        \n",
    "    def __init__(self, nom: str = \"Dupont\", solde: int = 1000):\n",
    "        self.nom = nom\n",
    "        self.solde = solde\n",
    "        \n",
    "    def depot(self, somme: int):\n",
    "        self.solde = self.solde + somme\n",
    "    \n",
    "    def retrait(self, somme: int):\n",
    "        self.solde = self.solde - somme\n",
    "    \n",
    "    def affiche(self):\n",
    "        return self.__repr__()\n",
    "    \n",
    "    def __repr__(self) -> str:\n",
    "        return \"Le solde du compte bancaire de {} est de {} euros.\".format(self.nom, self.solde)"
   ]
  },
  {
   "cell_type": "code",
   "execution_count": 96,
   "metadata": {},
   "outputs": [
    {
     "data": {
      "text/plain": [
       "'Le solde du compte bancaire de Duchmol est de 950 euros.'"
      ]
     },
     "execution_count": 96,
     "metadata": {},
     "output_type": "execute_result"
    }
   ],
   "source": [
    "compte1 = CompteBancaire('Duchmol', 800)\n",
    "compte1.depot(350)\n",
    "compte1.retrait(200)\n",
    "compte1.affiche()"
   ]
  },
  {
   "cell_type": "code",
   "execution_count": 97,
   "metadata": {},
   "outputs": [
    {
     "data": {
      "text/plain": [
       "'Le solde du compte bancaire de Dupont est de 1025 euros.'"
      ]
     },
     "execution_count": 97,
     "metadata": {},
     "output_type": "execute_result"
    }
   ],
   "source": [
    "compte2 = CompteBancaire()\n",
    "compte2.depot(25)\n",
    "compte2.affiche()"
   ]
  },
  {
   "cell_type": "markdown",
   "metadata": {},
   "source": [
    "### La surcharge d'opérateur"
   ]
  },
  {
   "cell_type": "code",
   "execution_count": 104,
   "metadata": {},
   "outputs": [],
   "source": [
    "class Point():\n",
    "    x: float\n",
    "    y: float\n",
    "    z: float\n",
    "        \n",
    "    def __init__(self, x: float, y: float, z: float = None):\n",
    "        self.x = x\n",
    "        self.y = y\n",
    "        self.z = z\n",
    "        \n",
    "    def toString(self) -> str:\n",
    "        return self.__repr__()\n",
    "        \n",
    "    def __repr__(self) -> str:\n",
    "        return \"P({}, {}, {})\".format(self.x, self.y, self.z) if self.z != None else \"P({}, {})\".format(self.x, self.y) "
   ]
  },
  {
   "cell_type": "code",
   "execution_count": 105,
   "metadata": {},
   "outputs": [
    {
     "data": {
      "text/plain": [
       "'P(2, 3)'"
      ]
     },
     "execution_count": 105,
     "metadata": {},
     "output_type": "execute_result"
    }
   ],
   "source": [
    "p1 = Point(2, 3)\n",
    "p1.toString()"
   ]
  },
  {
   "cell_type": "code",
   "execution_count": 106,
   "metadata": {},
   "outputs": [
    {
     "data": {
      "text/plain": [
       "'P(1, -5, 6)'"
      ]
     },
     "execution_count": 106,
     "metadata": {},
     "output_type": "execute_result"
    }
   ],
   "source": [
    "p2 = Point(1, -5, 6)\n",
    "p2.toString()"
   ]
  },
  {
   "cell_type": "markdown",
   "metadata": {},
   "source": [
    "### L'héritage simple"
   ]
  },
  {
   "cell_type": "code",
   "execution_count": 21,
   "metadata": {},
   "outputs": [],
   "source": [
    "import datetime as dt\n",
    "\n",
    "\n",
    "class DateNaissance(object):\n",
    "    jour: dt.datetime.day\n",
    "    mois: dt.datetime.month\n",
    "    année: dt.datetime.year\n",
    "        \n",
    "    def __init__(self, jour: dt.datetime.day, mois: dt.datetime.month, année: dt.datetime.year):\n",
    "        self.jour = jour\n",
    "        self.mois = mois\n",
    "        self.année = année\n",
    "        \n",
    "    def toString(self):\n",
    "        return self.__repr__()\n",
    "    \n",
    "    def __repr__(self):\n",
    "        return \"{} / {} / {}\".format(self.jour, self.mois, self.année)\n",
    "\n",
    "    \n",
    "class Personne(object):\n",
    "    nom: str\n",
    "    prenom: str\n",
    "    dateNaissance: DateNaissance\n",
    "        \n",
    "    def __init__(self, nom: str, prenom: str, dateNaissance: DateNaissance):\n",
    "        self.nom = nom\n",
    "        self.prenom = prenom\n",
    "        self.dateNaissance = dateNaissance\n",
    "        \n",
    "    def afficher(self):\n",
    "        self.__repr__()\n",
    "        \n",
    "    def __repr__(self):\n",
    "        print(\"Nom: {}\\nPrenom: {}\\nDate de naissance: {}\".format(self.nom, self.prenom, self.dateNaissance.toString()))\n",
    "        \n",
    "\n",
    "class Employé(Personne):\n",
    "    salaire: float\n",
    "        \n",
    "    def __init__(self, nom: str, prenom: str, dateNaissance: DateNaissance, salaire: float):\n",
    "        super(Employé, self).__init__(nom, prenom, dateNaissance)\n",
    "        self.salaire = salaire\n",
    "        \n",
    "    def afficher(self):\n",
    "        self.__repr__()\n",
    "        \n",
    "    def __repr__(self):\n",
    "        print(\"Nom: {}\\nPrenom: {}\\nDate de naissance: {}\\nSalaire: {}\".format(self.nom, self.prenom, self.dateNaissance.toString(), self.salaire))\n",
    "        \n",
    "        \n",
    "class Chef(Employé):\n",
    "    service: str\n",
    "        \n",
    "    def __init__(self, nom: str, prenom: str, dateNaissance: DateNaissance, salaire: float, service: str):\n",
    "        super(Chef, self).__init__(nom, prenom, dateNaissance, salaire)\n",
    "        self.service = service\n",
    "        \n",
    "    def afficher(self):\n",
    "        self.__repr__()\n",
    "        \n",
    "    def __repr__(self):\n",
    "        print(\"Nom: {}\\nPrenom: {}\\nDate de naissance: {}\\nSalaire: {}\\nService: {}\".format(self.nom, self.prenom, self.dateNaissance.toString(), self.salaire, self.service))"
   ]
  },
  {
   "cell_type": "code",
   "execution_count": 49,
   "metadata": {},
   "outputs": [
    {
     "name": "stdout",
     "output_type": "stream",
     "text": [
      "Nom: Ilyass\n",
      "Prenom: Math\n",
      "Date de naissance: 1 / 7 / 1982\n"
     ]
    }
   ],
   "source": [
    "p = Personne('Ilyass', 'Math', DateNaissance(1,7,1982))\n",
    "p.afficher()"
   ]
  },
  {
   "cell_type": "code",
   "execution_count": 50,
   "metadata": {},
   "outputs": [
    {
     "name": "stdout",
     "output_type": "stream",
     "text": [
      "Nom: Ilyass\n",
      "Prenom: Math\n",
      "Date de naissance: 1 / 7 / 1985\n",
      "Salaire: 7865.548\n"
     ]
    }
   ],
   "source": [
    "e = Employé('Ilyass', 'Math', DateNaissance(1,7,1985), 7865.548)\n",
    "e.afficher()"
   ]
  },
  {
   "cell_type": "code",
   "execution_count": 51,
   "metadata": {},
   "outputs": [
    {
     "name": "stdout",
     "output_type": "stream",
     "text": [
      "Nom: Ilyass\n",
      "Prenom: Math\n",
      "Date de naissance: 1 / 7 / 1988\n",
      "Salaire: 7865.548\n",
      "Service: Ressource humaine\n"
     ]
    }
   ],
   "source": [
    "ch = Chef('Ilyass', 'Math',DateNaissance(1,7,1988), 7865.548, 'Ressource humaine')\n",
    "ch.afficher()"
   ]
  },
  {
   "cell_type": "markdown",
   "metadata": {},
   "source": [
    "### Le polymorphisme"
   ]
  },
  {
   "cell_type": "code",
   "execution_count": 34,
   "metadata": {},
   "outputs": [],
   "source": [
    "class Courrier: \n",
    "    poids: float\n",
    "    mode: str\n",
    "    destination: str\n",
    "    expedition: str\n",
    "        \n",
    "    def __init__(self, destination: str, expedition: str, poids: float, mode: str):\n",
    "        self.destination = destination\n",
    "        self.expedition = expedition\n",
    "        self.poids = poids\n",
    "        self.mode = mode\n",
    "        \n",
    "        \n",
    "class Lettre(Courrier):\n",
    "    dimentionFormat: str\n",
    "        \n",
    "    def __init__(self, destination: str, expedition: str, poids: float, mode: str, dimentionFormat: str):\n",
    "        super(Lettre, self).__init__(destination, expedition, poids, mode)\n",
    "        self.dimentionFormat = dimentionFormat\n",
    "        \n",
    "    def calculTimbre(self):\n",
    "        print(\"Prix du timbre: {}\".format((2.5 if self.dimentionFormat == \"A4\" else 3.5) * self.poids / 1000 * (2 if self.mode == \"express\" else 1)))\n",
    "    \n",
    "    def toString(self):\n",
    "        print(\"Adresse destination: {}\\nAdresse expedition: {}\\nPoids: {} gramme(s)\\nMode: {}\\nFormat: {}\".format(self.destination, self.expedition, self.poids, self.mode, self.dimentionFormat))\n",
    "        self.calculTimbre()\n",
    "        \n",
    "        \n",
    "class Colis(Courrier):\n",
    "    volume: float\n",
    "        \n",
    "    def __init__(self, destination: str, expedition: str, poids: float, mode: str, volume: float):\n",
    "        super(Colis, self).__init__(destination, expedition, poids, mode)\n",
    "        self.volume = volume\n",
    "        \n",
    "    def calculTimbre(self):\n",
    "        print(\"Prix du timbre: {}\".format(0.25 * self.volume * self.poids / 1000 * (2 if self.mode == \"express\" else 1)))\n",
    "    \n",
    "    def toString(self):\n",
    "        print(\"Adresse destination: {}\\nAdresse expedition: {}\\nPoids: {} gramme(s)\\nMode: {}\\nVolume: {} litre(s)\".format(self.destination, self.expedition, self.poids, self.mode, self.volume))\n",
    "        self.calculTimbre()   "
   ]
  },
  {
   "cell_type": "code",
   "execution_count": 35,
   "metadata": {},
   "outputs": [
    {
     "name": "stdout",
     "output_type": "stream",
     "text": [
      "Adresse destination: Lille\n",
      "Adresse expedition: Paris\n",
      "Poids: 80 gramme(s)\n",
      "Mode: normal\n",
      "Format: A4\n",
      "Prix du timbre: 0.2\n"
     ]
    }
   ],
   "source": [
    "l1 = Lettre('Lille', 'Paris', 80, \"normal\", 'A4')\n",
    "l1.toString()"
   ]
  },
  {
   "cell_type": "code",
   "execution_count": 36,
   "metadata": {},
   "outputs": [
    {
     "name": "stdout",
     "output_type": "stream",
     "text": [
      "Adresse destination: Marrakeche\n",
      "Adresse expedition: Barcelone\n",
      "Poids: 3500 gramme(s)\n",
      "Mode: express\n",
      "Volume: 2.25 litre(s)\n",
      "Prix du timbre: 3.9375\n"
     ]
    }
   ],
   "source": [
    "c1 = Colis('Marrakeche', 'Barcelone', 3500, \"express\", 2.25)\n",
    "c1.toString()"
   ]
  },
  {
   "cell_type": "code",
   "execution_count": null,
   "metadata": {},
   "outputs": [],
   "source": []
  }
 ],
 "metadata": {
  "kernelspec": {
   "display_name": "Python 3",
   "language": "python",
   "name": "python3"
  },
  "language_info": {
   "codemirror_mode": {
    "name": "ipython",
    "version": 3
   },
   "file_extension": ".py",
   "mimetype": "text/x-python",
   "name": "python",
   "nbconvert_exporter": "python",
   "pygments_lexer": "ipython3",
   "version": "3.8.3"
  }
 },
 "nbformat": 4,
 "nbformat_minor": 4
}
