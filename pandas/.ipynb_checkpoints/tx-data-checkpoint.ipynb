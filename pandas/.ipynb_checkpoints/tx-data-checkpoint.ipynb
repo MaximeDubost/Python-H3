{
 "cells": [
  {
   "cell_type": "code",
   "execution_count": 3,
   "metadata": {},
   "outputs": [],
   "source": [
    "import numpy as np\n",
    "import pandas as pd\n",
    "url = 'https://bit.ly/tx-data'\n",
    "df = pd.read_csv(url)"
   ]
  },
  {
   "cell_type": "code",
   "execution_count": 5,
   "metadata": {},
   "outputs": [
    {
     "data": {
      "text/html": [
       "<div>\n",
       "<style scoped>\n",
       "    .dataframe tbody tr th:only-of-type {\n",
       "        vertical-align: middle;\n",
       "    }\n",
       "\n",
       "    .dataframe tbody tr th {\n",
       "        vertical-align: top;\n",
       "    }\n",
       "\n",
       "    .dataframe thead th {\n",
       "        text-align: right;\n",
       "    }\n",
       "</style>\n",
       "<table border=\"1\" class=\"dataframe\">\n",
       "  <thead>\n",
       "    <tr style=\"text-align: right;\">\n",
       "      <th></th>\n",
       "      <th>transaction_id</th>\n",
       "      <th>first_name</th>\n",
       "      <th>last_name</th>\n",
       "      <th>ip_address</th>\n",
       "      <th>amount</th>\n",
       "    </tr>\n",
       "  </thead>\n",
       "  <tbody>\n",
       "    <tr>\n",
       "      <th>0</th>\n",
       "      <td>50563-403</td>\n",
       "      <td>Jacobo</td>\n",
       "      <td>Haresign</td>\n",
       "      <td>18.144.134.48</td>\n",
       "      <td>$647.77</td>\n",
       "    </tr>\n",
       "    <tr>\n",
       "      <th>1</th>\n",
       "      <td>54569-3911</td>\n",
       "      <td>Christy</td>\n",
       "      <td>Derl</td>\n",
       "      <td>254.107.123.242</td>\n",
       "      <td>$460.47</td>\n",
       "    </tr>\n",
       "    <tr>\n",
       "      <th>2</th>\n",
       "      <td>59667-0024</td>\n",
       "      <td>Florie</td>\n",
       "      <td>Prewer</td>\n",
       "      <td>148.80.11.233</td>\n",
       "      <td>$565.38</td>\n",
       "    </tr>\n",
       "    <tr>\n",
       "      <th>3</th>\n",
       "      <td>60429-123</td>\n",
       "      <td>Danika</td>\n",
       "      <td>Shimuk</td>\n",
       "      <td>233.91.221.158</td>\n",
       "      <td>$794.76</td>\n",
       "    </tr>\n",
       "    <tr>\n",
       "      <th>4</th>\n",
       "      <td>0187-0771</td>\n",
       "      <td>Annelise</td>\n",
       "      <td>Antonescu</td>\n",
       "      <td>238.143.41.105</td>\n",
       "      <td>$790.41</td>\n",
       "    </tr>\n",
       "  </tbody>\n",
       "</table>\n",
       "</div>"
      ],
      "text/plain": [
       "  transaction_id first_name  last_name       ip_address   amount\n",
       "0      50563-403     Jacobo   Haresign    18.144.134.48  $647.77\n",
       "1     54569-3911    Christy       Derl  254.107.123.242  $460.47\n",
       "2     59667-0024     Florie     Prewer    148.80.11.233  $565.38\n",
       "3      60429-123     Danika     Shimuk   233.91.221.158  $794.76\n",
       "4      0187-0771   Annelise  Antonescu   238.143.41.105  $790.41"
      ]
     },
     "execution_count": 5,
     "metadata": {},
     "output_type": "execute_result"
    }
   ],
   "source": [
    "df.head()"
   ]
  },
  {
   "cell_type": "code",
   "execution_count": 8,
   "metadata": {},
   "outputs": [
    {
     "data": {
      "text/plain": [
       "array([1, 2, 3, 4, 5])"
      ]
     },
     "execution_count": 8,
     "metadata": {},
     "output_type": "execute_result"
    }
   ],
   "source": [
    "X = np.array([1, 2, 3, 4, 5])\n",
    "X"
   ]
  },
  {
   "cell_type": "code",
   "execution_count": 10,
   "metadata": {},
   "outputs": [
    {
     "data": {
      "text/plain": [
       "array([False, False,  True, False,  True])"
      ]
     },
     "execution_count": 10,
     "metadata": {},
     "output_type": "execute_result"
    }
   ],
   "source": [
    "mask = np.array([False, False, True, False, True])\n",
    "mask"
   ]
  },
  {
   "cell_type": "code",
   "execution_count": 11,
   "metadata": {},
   "outputs": [
    {
     "data": {
      "text/plain": [
       "array([3, 5])"
      ]
     },
     "execution_count": 11,
     "metadata": {},
     "output_type": "execute_result"
    }
   ],
   "source": [
    "X[mask]"
   ]
  },
  {
   "cell_type": "code",
   "execution_count": 16,
   "metadata": {},
   "outputs": [
    {
     "data": {
      "text/plain": [
       "array([False,  True, False,  True, False])"
      ]
     },
     "execution_count": 16,
     "metadata": {},
     "output_type": "execute_result"
    }
   ],
   "source": [
    "X % 2 == 0"
   ]
  },
  {
   "cell_type": "code",
   "execution_count": 14,
   "metadata": {},
   "outputs": [],
   "source": [
    "pair = X % 2 == 0"
   ]
  },
  {
   "cell_type": "code",
   "execution_count": 15,
   "metadata": {},
   "outputs": [
    {
     "data": {
      "text/plain": [
       "array([2, 4])"
      ]
     },
     "execution_count": 15,
     "metadata": {},
     "output_type": "execute_result"
    }
   ],
   "source": [
    "X[pair]"
   ]
  },
  {
   "cell_type": "code",
   "execution_count": 36,
   "metadata": {},
   "outputs": [
    {
     "data": {
      "text/html": [
       "<div>\n",
       "<style scoped>\n",
       "    .dataframe tbody tr th:only-of-type {\n",
       "        vertical-align: middle;\n",
       "    }\n",
       "\n",
       "    .dataframe tbody tr th {\n",
       "        vertical-align: top;\n",
       "    }\n",
       "\n",
       "    .dataframe thead th {\n",
       "        text-align: right;\n",
       "    }\n",
       "</style>\n",
       "<table border=\"1\" class=\"dataframe\">\n",
       "  <thead>\n",
       "    <tr style=\"text-align: right;\">\n",
       "      <th></th>\n",
       "      <th>transaction_id</th>\n",
       "      <th>first_name</th>\n",
       "      <th>last_name</th>\n",
       "      <th>ip_address</th>\n",
       "      <th>amount</th>\n",
       "    </tr>\n",
       "  </thead>\n",
       "  <tbody>\n",
       "    <tr>\n",
       "      <th>15</th>\n",
       "      <td>68180-751</td>\n",
       "      <td>Marlon</td>\n",
       "      <td>Fernie</td>\n",
       "      <td>61.133.100.141</td>\n",
       "      <td>$974.30</td>\n",
       "    </tr>\n",
       "    <tr>\n",
       "      <th>19</th>\n",
       "      <td>53942-299</td>\n",
       "      <td>Upton</td>\n",
       "      <td>Emig</td>\n",
       "      <td>103.190.123.125</td>\n",
       "      <td>$759.53</td>\n",
       "    </tr>\n",
       "    <tr>\n",
       "      <th>20</th>\n",
       "      <td>60289-247</td>\n",
       "      <td>Corri</td>\n",
       "      <td>Rockcliffe</td>\n",
       "      <td>46.150.208.18</td>\n",
       "      <td>$5.68</td>\n",
       "    </tr>\n",
       "    <tr>\n",
       "      <th>28</th>\n",
       "      <td>59667-0024</td>\n",
       "      <td>Florie</td>\n",
       "      <td>Prewer</td>\n",
       "      <td>148.80.11.233</td>\n",
       "      <td>$565.38</td>\n",
       "    </tr>\n",
       "    <tr>\n",
       "      <th>32</th>\n",
       "      <td>65862-207</td>\n",
       "      <td>Alvira</td>\n",
       "      <td>Heifer</td>\n",
       "      <td>141.170.128.72</td>\n",
       "      <td>$584.13</td>\n",
       "    </tr>\n",
       "  </tbody>\n",
       "</table>\n",
       "</div>"
      ],
      "text/plain": [
       "   transaction_id first_name   last_name       ip_address   amount\n",
       "15      68180-751     Marlon      Fernie   61.133.100.141  $974.30\n",
       "19      53942-299      Upton        Emig  103.190.123.125  $759.53\n",
       "20      60289-247      Corri  Rockcliffe    46.150.208.18    $5.68\n",
       "28     59667-0024     Florie      Prewer    148.80.11.233  $565.38\n",
       "32      65862-207     Alvira      Heifer   141.170.128.72  $584.13"
      ]
     },
     "execution_count": 36,
     "metadata": {},
     "output_type": "execute_result"
    }
   ],
   "source": [
    "df[df.duplicated()].head() # Affiche les lignes en duplicatas"
   ]
  },
  {
   "cell_type": "code",
   "execution_count": 35,
   "metadata": {},
   "outputs": [
    {
     "data": {
      "text/html": [
       "<div>\n",
       "<style scoped>\n",
       "    .dataframe tbody tr th:only-of-type {\n",
       "        vertical-align: middle;\n",
       "    }\n",
       "\n",
       "    .dataframe tbody tr th {\n",
       "        vertical-align: top;\n",
       "    }\n",
       "\n",
       "    .dataframe thead th {\n",
       "        text-align: right;\n",
       "    }\n",
       "</style>\n",
       "<table border=\"1\" class=\"dataframe\">\n",
       "  <thead>\n",
       "    <tr style=\"text-align: right;\">\n",
       "      <th></th>\n",
       "      <th>transaction_id</th>\n",
       "      <th>first_name</th>\n",
       "      <th>last_name</th>\n",
       "      <th>ip_address</th>\n",
       "      <th>amount</th>\n",
       "    </tr>\n",
       "  </thead>\n",
       "  <tbody>\n",
       "    <tr>\n",
       "      <th>2</th>\n",
       "      <td>59667-0024</td>\n",
       "      <td>Florie</td>\n",
       "      <td>Prewer</td>\n",
       "      <td>148.80.11.233</td>\n",
       "      <td>$565.38</td>\n",
       "    </tr>\n",
       "    <tr>\n",
       "      <th>5</th>\n",
       "      <td>53942-299</td>\n",
       "      <td>Upton</td>\n",
       "      <td>Emig</td>\n",
       "      <td>103.190.123.125</td>\n",
       "      <td>$759.53</td>\n",
       "    </tr>\n",
       "    <tr>\n",
       "      <th>7</th>\n",
       "      <td>60289-247</td>\n",
       "      <td>Corri</td>\n",
       "      <td>Rockcliffe</td>\n",
       "      <td>46.150.208.18</td>\n",
       "      <td>$5.68</td>\n",
       "    </tr>\n",
       "    <tr>\n",
       "      <th>12</th>\n",
       "      <td>68180-751</td>\n",
       "      <td>Marlon</td>\n",
       "      <td>Fernie</td>\n",
       "      <td>61.133.100.141</td>\n",
       "      <td>$974.30</td>\n",
       "    </tr>\n",
       "    <tr>\n",
       "      <th>14</th>\n",
       "      <td>65862-207</td>\n",
       "      <td>Alvira</td>\n",
       "      <td>Heifer</td>\n",
       "      <td>141.170.128.72</td>\n",
       "      <td>$584.13</td>\n",
       "    </tr>\n",
       "  </tbody>\n",
       "</table>\n",
       "</div>"
      ],
      "text/plain": [
       "   transaction_id first_name   last_name       ip_address   amount\n",
       "2      59667-0024     Florie      Prewer    148.80.11.233  $565.38\n",
       "5       53942-299      Upton        Emig  103.190.123.125  $759.53\n",
       "7       60289-247      Corri  Rockcliffe    46.150.208.18    $5.68\n",
       "12      68180-751     Marlon      Fernie   61.133.100.141  $974.30\n",
       "14      65862-207     Alvira      Heifer   141.170.128.72  $584.13"
      ]
     },
     "execution_count": 35,
     "metadata": {},
     "output_type": "execute_result"
    }
   ],
   "source": [
    "df[df.duplicated(keep = False)].head() # Affiche les lignes en duplicatas et leurs originaux"
   ]
  },
  {
   "cell_type": "code",
   "execution_count": 34,
   "metadata": {},
   "outputs": [
    {
     "data": {
      "text/html": [
       "<div>\n",
       "<style scoped>\n",
       "    .dataframe tbody tr th:only-of-type {\n",
       "        vertical-align: middle;\n",
       "    }\n",
       "\n",
       "    .dataframe tbody tr th {\n",
       "        vertical-align: top;\n",
       "    }\n",
       "\n",
       "    .dataframe thead th {\n",
       "        text-align: right;\n",
       "    }\n",
       "</style>\n",
       "<table border=\"1\" class=\"dataframe\">\n",
       "  <thead>\n",
       "    <tr style=\"text-align: right;\">\n",
       "      <th></th>\n",
       "      <th>transaction_id</th>\n",
       "      <th>first_name</th>\n",
       "      <th>last_name</th>\n",
       "      <th>ip_address</th>\n",
       "      <th>amount</th>\n",
       "    </tr>\n",
       "  </thead>\n",
       "  <tbody>\n",
       "    <tr>\n",
       "      <th>2</th>\n",
       "      <td>59667-0024</td>\n",
       "      <td>Florie</td>\n",
       "      <td>Prewer</td>\n",
       "      <td>148.80.11.233</td>\n",
       "      <td>$565.38</td>\n",
       "    </tr>\n",
       "    <tr>\n",
       "      <th>5</th>\n",
       "      <td>53942-299</td>\n",
       "      <td>Upton</td>\n",
       "      <td>Emig</td>\n",
       "      <td>103.190.123.125</td>\n",
       "      <td>$759.53</td>\n",
       "    </tr>\n",
       "    <tr>\n",
       "      <th>7</th>\n",
       "      <td>60289-247</td>\n",
       "      <td>Corri</td>\n",
       "      <td>Rockcliffe</td>\n",
       "      <td>46.150.208.18</td>\n",
       "      <td>$5.68</td>\n",
       "    </tr>\n",
       "    <tr>\n",
       "      <th>12</th>\n",
       "      <td>68180-751</td>\n",
       "      <td>Marlon</td>\n",
       "      <td>Fernie</td>\n",
       "      <td>61.133.100.141</td>\n",
       "      <td>$974.30</td>\n",
       "    </tr>\n",
       "    <tr>\n",
       "      <th>14</th>\n",
       "      <td>65862-207</td>\n",
       "      <td>Alvira</td>\n",
       "      <td>Heifer</td>\n",
       "      <td>141.170.128.72</td>\n",
       "      <td>$584.13</td>\n",
       "    </tr>\n",
       "  </tbody>\n",
       "</table>\n",
       "</div>"
      ],
      "text/plain": [
       "   transaction_id first_name   last_name       ip_address   amount\n",
       "2      59667-0024     Florie      Prewer    148.80.11.233  $565.38\n",
       "5       53942-299      Upton        Emig  103.190.123.125  $759.53\n",
       "7       60289-247      Corri  Rockcliffe    46.150.208.18    $5.68\n",
       "12      68180-751     Marlon      Fernie   61.133.100.141  $974.30\n",
       "14      65862-207     Alvira      Heifer   141.170.128.72  $584.13"
      ]
     },
     "execution_count": 34,
     "metadata": {},
     "output_type": "execute_result"
    }
   ],
   "source": [
    "duplicatas = df.duplicated(keep = False, subset = [\"transaction_id\"]) # keep = \"first\" (défault), \"last\" ou False\n",
    "df[duplicatas].head() # Il est préférable de garder le keep en false si on utilise le subset"
   ]
  },
  {
   "cell_type": "code",
   "execution_count": 33,
   "metadata": {},
   "outputs": [
    {
     "data": {
      "text/html": [
       "<div>\n",
       "<style scoped>\n",
       "    .dataframe tbody tr th:only-of-type {\n",
       "        vertical-align: middle;\n",
       "    }\n",
       "\n",
       "    .dataframe tbody tr th {\n",
       "        vertical-align: top;\n",
       "    }\n",
       "\n",
       "    .dataframe thead th {\n",
       "        text-align: right;\n",
       "    }\n",
       "</style>\n",
       "<table border=\"1\" class=\"dataframe\">\n",
       "  <thead>\n",
       "    <tr style=\"text-align: right;\">\n",
       "      <th></th>\n",
       "      <th>transaction_id</th>\n",
       "      <th>first_name</th>\n",
       "      <th>last_name</th>\n",
       "      <th>ip_address</th>\n",
       "      <th>amount</th>\n",
       "    </tr>\n",
       "  </thead>\n",
       "  <tbody>\n",
       "    <tr>\n",
       "      <th>16</th>\n",
       "      <td>0066-0508</td>\n",
       "      <td>Jedd</td>\n",
       "      <td>Hartman</td>\n",
       "      <td>21.55.247.91</td>\n",
       "      <td>$749.96</td>\n",
       "    </tr>\n",
       "    <tr>\n",
       "      <th>42</th>\n",
       "      <td>0066-0508</td>\n",
       "      <td>Jedd</td>\n",
       "      <td>Hartman</td>\n",
       "      <td>21.55.247.91</td>\n",
       "      <td>$749.96</td>\n",
       "    </tr>\n",
       "    <tr>\n",
       "      <th>5</th>\n",
       "      <td>53942-299</td>\n",
       "      <td>Upton</td>\n",
       "      <td>Emig</td>\n",
       "      <td>103.190.123.125</td>\n",
       "      <td>$759.53</td>\n",
       "    </tr>\n",
       "    <tr>\n",
       "      <th>19</th>\n",
       "      <td>53942-299</td>\n",
       "      <td>Upton</td>\n",
       "      <td>Emig</td>\n",
       "      <td>103.190.123.125</td>\n",
       "      <td>$759.53</td>\n",
       "    </tr>\n",
       "    <tr>\n",
       "      <th>2</th>\n",
       "      <td>59667-0024</td>\n",
       "      <td>Florie</td>\n",
       "      <td>Prewer</td>\n",
       "      <td>148.80.11.233</td>\n",
       "      <td>$565.38</td>\n",
       "    </tr>\n",
       "  </tbody>\n",
       "</table>\n",
       "</div>"
      ],
      "text/plain": [
       "   transaction_id first_name last_name       ip_address   amount\n",
       "16      0066-0508       Jedd   Hartman     21.55.247.91  $749.96\n",
       "42      0066-0508       Jedd   Hartman     21.55.247.91  $749.96\n",
       "5       53942-299      Upton      Emig  103.190.123.125  $759.53\n",
       "19      53942-299      Upton      Emig  103.190.123.125  $759.53\n",
       "2      59667-0024     Florie    Prewer    148.80.11.233  $565.38"
      ]
     },
     "execution_count": 33,
     "metadata": {},
     "output_type": "execute_result"
    }
   ],
   "source": [
    "df[duplicatas].sort_values('transaction_id').head()"
   ]
  },
  {
   "cell_type": "code",
   "execution_count": 41,
   "metadata": {},
   "outputs": [],
   "source": [
    "df.drop_duplicates(subset = ['transaction_id'], inplace = True)"
   ]
  },
  {
   "cell_type": "code",
   "execution_count": 43,
   "metadata": {},
   "outputs": [
    {
     "data": {
      "text/html": [
       "<div>\n",
       "<style scoped>\n",
       "    .dataframe tbody tr th:only-of-type {\n",
       "        vertical-align: middle;\n",
       "    }\n",
       "\n",
       "    .dataframe tbody tr th {\n",
       "        vertical-align: top;\n",
       "    }\n",
       "\n",
       "    .dataframe thead th {\n",
       "        text-align: right;\n",
       "    }\n",
       "</style>\n",
       "<table border=\"1\" class=\"dataframe\">\n",
       "  <thead>\n",
       "    <tr style=\"text-align: right;\">\n",
       "      <th></th>\n",
       "      <th>transaction_id</th>\n",
       "      <th>first_name</th>\n",
       "      <th>last_name</th>\n",
       "      <th>ip_address</th>\n",
       "      <th>amount</th>\n",
       "    </tr>\n",
       "  </thead>\n",
       "  <tbody>\n",
       "    <tr>\n",
       "      <th>0</th>\n",
       "      <td>50563-403</td>\n",
       "      <td>Jacobo</td>\n",
       "      <td>Haresign</td>\n",
       "      <td>18.144.134.48</td>\n",
       "      <td>$647.77</td>\n",
       "    </tr>\n",
       "    <tr>\n",
       "      <th>1</th>\n",
       "      <td>54569-3911</td>\n",
       "      <td>Christy</td>\n",
       "      <td>Derl</td>\n",
       "      <td>254.107.123.242</td>\n",
       "      <td>$460.47</td>\n",
       "    </tr>\n",
       "    <tr>\n",
       "      <th>2</th>\n",
       "      <td>59667-0024</td>\n",
       "      <td>Florie</td>\n",
       "      <td>Prewer</td>\n",
       "      <td>148.80.11.233</td>\n",
       "      <td>$565.38</td>\n",
       "    </tr>\n",
       "    <tr>\n",
       "      <th>3</th>\n",
       "      <td>60429-123</td>\n",
       "      <td>Danika</td>\n",
       "      <td>Shimuk</td>\n",
       "      <td>233.91.221.158</td>\n",
       "      <td>$794.76</td>\n",
       "    </tr>\n",
       "    <tr>\n",
       "      <th>4</th>\n",
       "      <td>0187-0771</td>\n",
       "      <td>Annelise</td>\n",
       "      <td>Antonescu</td>\n",
       "      <td>238.143.41.105</td>\n",
       "      <td>$790.41</td>\n",
       "    </tr>\n",
       "    <tr>\n",
       "      <th>5</th>\n",
       "      <td>53942-299</td>\n",
       "      <td>Upton</td>\n",
       "      <td>Emig</td>\n",
       "      <td>103.190.123.125</td>\n",
       "      <td>$759.53</td>\n",
       "    </tr>\n",
       "    <tr>\n",
       "      <th>6</th>\n",
       "      <td>41163-519</td>\n",
       "      <td>Rachael</td>\n",
       "      <td>Housley</td>\n",
       "      <td>3.188.252.248</td>\n",
       "      <td>$871.72</td>\n",
       "    </tr>\n",
       "    <tr>\n",
       "      <th>7</th>\n",
       "      <td>60289-247</td>\n",
       "      <td>Corri</td>\n",
       "      <td>Rockcliffe</td>\n",
       "      <td>46.150.208.18</td>\n",
       "      <td>$5.68</td>\n",
       "    </tr>\n",
       "    <tr>\n",
       "      <th>8</th>\n",
       "      <td>0527-1742</td>\n",
       "      <td>Ambros</td>\n",
       "      <td>Goulding</td>\n",
       "      <td>174.124.224.39</td>\n",
       "      <td>$726.12</td>\n",
       "    </tr>\n",
       "    <tr>\n",
       "      <th>9</th>\n",
       "      <td>57237-083</td>\n",
       "      <td>Roma</td>\n",
       "      <td>Addekin</td>\n",
       "      <td>37.14.63.174</td>\n",
       "      <td>$526.89</td>\n",
       "    </tr>\n",
       "    <tr>\n",
       "      <th>10</th>\n",
       "      <td>60758-060</td>\n",
       "      <td>Auberon</td>\n",
       "      <td>Boxen</td>\n",
       "      <td>168.0.223.98</td>\n",
       "      <td>$309.65</td>\n",
       "    </tr>\n",
       "    <tr>\n",
       "      <th>11</th>\n",
       "      <td>43857-0289</td>\n",
       "      <td>Cesare</td>\n",
       "      <td>Andriolli</td>\n",
       "      <td>244.204.3.163</td>\n",
       "      <td>$746.23</td>\n",
       "    </tr>\n",
       "    <tr>\n",
       "      <th>12</th>\n",
       "      <td>68180-751</td>\n",
       "      <td>Marlon</td>\n",
       "      <td>Fernie</td>\n",
       "      <td>61.133.100.141</td>\n",
       "      <td>$974.30</td>\n",
       "    </tr>\n",
       "    <tr>\n",
       "      <th>13</th>\n",
       "      <td>43319-040</td>\n",
       "      <td>Gavrielle</td>\n",
       "      <td>Vittet</td>\n",
       "      <td>180.20.70.166</td>\n",
       "      <td>$994.20</td>\n",
       "    </tr>\n",
       "    <tr>\n",
       "      <th>14</th>\n",
       "      <td>65862-207</td>\n",
       "      <td>Alvira</td>\n",
       "      <td>Heifer</td>\n",
       "      <td>141.170.128.72</td>\n",
       "      <td>$584.13</td>\n",
       "    </tr>\n",
       "    <tr>\n",
       "      <th>16</th>\n",
       "      <td>0066-0508</td>\n",
       "      <td>Jedd</td>\n",
       "      <td>Hartman</td>\n",
       "      <td>21.55.247.91</td>\n",
       "      <td>$749.96</td>\n",
       "    </tr>\n",
       "  </tbody>\n",
       "</table>\n",
       "</div>"
      ],
      "text/plain": [
       "   transaction_id first_name   last_name       ip_address   amount\n",
       "0       50563-403     Jacobo    Haresign    18.144.134.48  $647.77\n",
       "1      54569-3911    Christy        Derl  254.107.123.242  $460.47\n",
       "2      59667-0024     Florie      Prewer    148.80.11.233  $565.38\n",
       "3       60429-123     Danika      Shimuk   233.91.221.158  $794.76\n",
       "4       0187-0771   Annelise   Antonescu   238.143.41.105  $790.41\n",
       "5       53942-299      Upton        Emig  103.190.123.125  $759.53\n",
       "6       41163-519    Rachael     Housley    3.188.252.248  $871.72\n",
       "7       60289-247      Corri  Rockcliffe    46.150.208.18    $5.68\n",
       "8       0527-1742     Ambros    Goulding   174.124.224.39  $726.12\n",
       "9       57237-083       Roma     Addekin     37.14.63.174  $526.89\n",
       "10      60758-060    Auberon       Boxen     168.0.223.98  $309.65\n",
       "11     43857-0289     Cesare   Andriolli    244.204.3.163  $746.23\n",
       "12      68180-751     Marlon      Fernie   61.133.100.141  $974.30\n",
       "13      43319-040  Gavrielle      Vittet    180.20.70.166  $994.20\n",
       "14      65862-207     Alvira      Heifer   141.170.128.72  $584.13\n",
       "16      0066-0508       Jedd     Hartman     21.55.247.91  $749.96"
      ]
     },
     "execution_count": 43,
     "metadata": {},
     "output_type": "execute_result"
    }
   ],
   "source": [
    "df.head(16) # La ligne 15 qui était un doublon à été supprimée"
   ]
  }
 ],
 "metadata": {
  "kernelspec": {
   "display_name": "Python 3",
   "language": "python",
   "name": "python3"
  },
  "language_info": {
   "codemirror_mode": {
    "name": "ipython",
    "version": 3
   },
   "file_extension": ".py",
   "mimetype": "text/x-python",
   "name": "python",
   "nbconvert_exporter": "python",
   "pygments_lexer": "ipython3",
   "version": "3.8.3"
  }
 },
 "nbformat": 4,
 "nbformat_minor": 4
}
