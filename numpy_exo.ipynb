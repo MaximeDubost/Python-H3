{
 "cells": [
  {
   "cell_type": "markdown",
   "metadata": {},
   "source": [
    "# Numpy exercices pratiques\n",
    "Ce notebook à pour objectif de vous faire pratiquer numpy dans toute sa généralité. \n",
    "Vous avez donc une liste de questions à faire ! Il ne faut pas hésiter à faire des recherches sur google ainsi que voir la [documentation officielle](https://docs.scipy.org/doc/numpy-1.13.0/reference/). "
   ]
  },
  {
   "cell_type": "markdown",
   "metadata": {},
   "source": [
    "#### Q1 : Importer le package numpy "
   ]
  },
  {
   "cell_type": "code",
   "execution_count": 1,
   "metadata": {},
   "outputs": [],
   "source": [
    "import numpy as np"
   ]
  },
  {
   "cell_type": "markdown",
   "metadata": {},
   "source": [
    "#### Q2 : Afficher la version de numpy et la configuration "
   ]
  },
  {
   "cell_type": "code",
   "execution_count": 3,
   "metadata": {},
   "outputs": [
    {
     "data": {
      "text/plain": [
       "'1.19.2'"
      ]
     },
     "execution_count": 3,
     "metadata": {},
     "output_type": "execute_result"
    }
   ],
   "source": [
    "np.version.version"
   ]
  },
  {
   "cell_type": "markdown",
   "metadata": {},
   "source": [
    "#### Q3 : Créer un vecteur nul de taille 10"
   ]
  },
  {
   "cell_type": "code",
   "execution_count": 5,
   "metadata": {},
   "outputs": [
    {
     "data": {
      "text/plain": [
       "array([[0.],\n",
       "       [0.],\n",
       "       [0.],\n",
       "       [0.],\n",
       "       [0.],\n",
       "       [0.],\n",
       "       [0.],\n",
       "       [0.],\n",
       "       [0.],\n",
       "       [0.]])"
      ]
     },
     "execution_count": 5,
     "metadata": {},
     "output_type": "execute_result"
    }
   ],
   "source": [
    "np.zeros(10).reshape((10, 1))"
   ]
  },
  {
   "cell_type": "markdown",
   "metadata": {},
   "source": [
    "#### Q4 : Créer un vecteur null de taille 10 et affecter la valeur 1 à la 4ème place (index 4) du vecteur"
   ]
  },
  {
   "cell_type": "code",
   "execution_count": 10,
   "metadata": {},
   "outputs": [
    {
     "name": "stdout",
     "output_type": "stream",
     "text": [
      "[[0.]\n",
      " [0.]\n",
      " [0.]\n",
      " [1.]\n",
      " [0.]\n",
      " [0.]\n",
      " [0.]\n",
      " [0.]\n",
      " [0.]\n",
      " [0.]]\n"
     ]
    }
   ],
   "source": [
    "v = np.zeros(10)\n",
    "v[3] = 1\n",
    "print(v.reshape(10, 1))"
   ]
  },
  {
   "cell_type": "markdown",
   "metadata": {},
   "source": [
    "#### Q5 : Créer un vecteur Z de 40 valeurs allant de 10 à 50 "
   ]
  },
  {
   "cell_type": "code",
   "execution_count": 13,
   "metadata": {},
   "outputs": [
    {
     "data": {
      "text/plain": [
       "array([[10],\n",
       "       [11],\n",
       "       [12],\n",
       "       [13],\n",
       "       [14],\n",
       "       [15],\n",
       "       [16],\n",
       "       [17],\n",
       "       [18],\n",
       "       [19],\n",
       "       [20],\n",
       "       [21],\n",
       "       [22],\n",
       "       [23],\n",
       "       [24],\n",
       "       [25],\n",
       "       [26],\n",
       "       [27],\n",
       "       [28],\n",
       "       [29],\n",
       "       [30],\n",
       "       [31],\n",
       "       [32],\n",
       "       [33],\n",
       "       [34],\n",
       "       [35],\n",
       "       [36],\n",
       "       [37],\n",
       "       [38],\n",
       "       [39],\n",
       "       [40],\n",
       "       [41],\n",
       "       [42],\n",
       "       [43],\n",
       "       [44],\n",
       "       [45],\n",
       "       [46],\n",
       "       [47],\n",
       "       [48],\n",
       "       [49],\n",
       "       [50]])"
      ]
     },
     "execution_count": 13,
     "metadata": {},
     "output_type": "execute_result"
    }
   ],
   "source": [
    "z = np.arange(10, 51).reshape(41, 1)"
   ]
  },
  {
   "cell_type": "markdown",
   "metadata": {},
   "source": [
    "#### Q6 : Inverser Z (le premier élément devient donc le dernier)"
   ]
  },
  {
   "cell_type": "code",
   "execution_count": 16,
   "metadata": {},
   "outputs": [
    {
     "name": "stdout",
     "output_type": "stream",
     "text": [
      "[[50]\n",
      " [49]\n",
      " [48]\n",
      " [47]\n",
      " [46]\n",
      " [45]\n",
      " [44]\n",
      " [43]\n",
      " [42]\n",
      " [41]\n",
      " [40]\n",
      " [39]\n",
      " [38]\n",
      " [37]\n",
      " [36]\n",
      " [35]\n",
      " [34]\n",
      " [33]\n",
      " [32]\n",
      " [31]\n",
      " [30]\n",
      " [29]\n",
      " [28]\n",
      " [27]\n",
      " [26]\n",
      " [25]\n",
      " [24]\n",
      " [23]\n",
      " [22]\n",
      " [21]\n",
      " [20]\n",
      " [19]\n",
      " [18]\n",
      " [17]\n",
      " [16]\n",
      " [15]\n",
      " [14]\n",
      " [13]\n",
      " [12]\n",
      " [11]\n",
      " [10]]\n"
     ]
    }
   ],
   "source": [
    "z = z[::-1]\n",
    "print(z)"
   ]
  },
  {
   "cell_type": "markdown",
   "metadata": {},
   "source": [
    "#### Q7 : Créer une matrice 3x3 avec des valeurs comprise entre 0 et 8 "
   ]
  },
  {
   "cell_type": "code",
   "execution_count": 35,
   "metadata": {},
   "outputs": [
    {
     "data": {
      "text/plain": [
       "array([[2, 7, 7],\n",
       "       [5, 4, 6],\n",
       "       [1, 2, 5]])"
      ]
     },
     "execution_count": 35,
     "metadata": {},
     "output_type": "execute_result"
    }
   ],
   "source": [
    "np.random.randint(low = 8, size = (3, 3)) "
   ]
  },
  {
   "cell_type": "markdown",
   "metadata": {},
   "source": [
    "#### Q8 : Créer une matrice identié 3x3 "
   ]
  },
  {
   "cell_type": "code",
   "execution_count": 20,
   "metadata": {},
   "outputs": [
    {
     "data": {
      "text/plain": [
       "array([[1., 0., 0.],\n",
       "       [0., 1., 0.],\n",
       "       [0., 0., 1.]])"
      ]
     },
     "execution_count": 20,
     "metadata": {},
     "output_type": "execute_result"
    }
   ],
   "source": [
    "np.identity(3)"
   ]
  },
  {
   "cell_type": "markdown",
   "metadata": {},
   "source": [
    "#### Q9 : Créer une matrice 3x3x3 avec des valeurs random "
   ]
  },
  {
   "cell_type": "code",
   "execution_count": 34,
   "metadata": {},
   "outputs": [
    {
     "data": {
      "text/plain": [
       "array([[[70, 21, 61],\n",
       "        [19, 74, 73],\n",
       "        [80, 12, 15]],\n",
       "\n",
       "       [[42, 61, 18],\n",
       "        [ 5, 89, 12],\n",
       "        [98, 49, 28]],\n",
       "\n",
       "       [[52, 75, 16],\n",
       "        [57, 38, 36],\n",
       "        [85, 97,  3]]])"
      ]
     },
     "execution_count": 34,
     "metadata": {},
     "output_type": "execute_result"
    }
   ],
   "source": [
    "np.random.randint(low = 100, size = (3, 3, 3))"
   ]
  },
  {
   "cell_type": "markdown",
   "metadata": {},
   "source": [
    "#### Q10 : Créer une matrice 10x10 avec des valeurs random et afficher le minimum et maximum de cette matrice"
   ]
  },
  {
   "cell_type": "code",
   "execution_count": 33,
   "metadata": {},
   "outputs": [
    {
     "name": "stdout",
     "output_type": "stream",
     "text": [
      "[[92 62 54 22  7 33 47  8 44 39]\n",
      " [68 54 13  9 34 56 56  5 89 66]\n",
      " [79 68 51 44 57 21 78  7 15 18]\n",
      " [31  0  5 35 83 81 18 77 41  2]\n",
      " [35 48 74 38 40 63 74  7 97 40]\n",
      " [26 75 42 19 74 91 74 26 14 36]\n",
      " [32 34 73 62 30 66 21 34 45 90]\n",
      " [39 83  0  2 85 57  4 34 39 38]\n",
      " [38  8 55 90 18 33 40  4 39 48]\n",
      " [ 0 41 53 48 60 81 66 94 60 71]]\n",
      "0\n",
      "97\n"
     ]
    }
   ],
   "source": [
    "m = np.random.randint(low = 100, size = (10, 10)) \n",
    "print(m)\n",
    "print(np.min(m))\n",
    "print(np.max(m))"
   ]
  },
  {
   "cell_type": "markdown",
   "metadata": {},
   "source": [
    "#### Q11 : Créer une matrice 5x5 avec les valeurs 1,2,3,4 en dessous de la diagonale "
   ]
  },
  {
   "cell_type": "code",
   "execution_count": 40,
   "metadata": {},
   "outputs": [
    {
     "name": "stdout",
     "output_type": "stream",
     "text": [
      "[[51 99 44 85 60]\n",
      " [ 1 78 29  2 92]\n",
      " [50  2 66 31 31]\n",
      " [ 6 12  3 61 85]\n",
      " [ 8 52 86  4 66]]\n"
     ]
    }
   ],
   "source": [
    "m = np.random.randint(low = 100, size = (5, 5))\n",
    "for i in range(1, len(m)):\n",
    "    m[i][i-1] = i\n",
    "print(m)"
   ]
  },
  {
   "cell_type": "markdown",
   "metadata": {},
   "source": [
    "#### Q12 : Créer une liste random de taille 5 et donner la somme de ses éléments  "
   ]
  },
  {
   "cell_type": "code",
   "execution_count": 82,
   "metadata": {},
   "outputs": [
    {
     "name": "stdout",
     "output_type": "stream",
     "text": [
      "[[21 20 30 50 56]\n",
      " [17 71 41 66 23]\n",
      " [69 81 56 15 94]\n",
      " [93 10 77 10 91]\n",
      " [ 9 95 22 95 32]]\n",
      "\n",
      "1244\n"
     ]
    }
   ],
   "source": [
    "m = np.random.randint(low = 100, size = (5, 5))\n",
    "print(m)\n",
    "print()\n",
    "print(m.sum())"
   ]
  },
  {
   "cell_type": "markdown",
   "metadata": {},
   "source": [
    "#### Q13 : Créer une liste random de taille 5 et donner la moyenne de ses éléments"
   ]
  },
  {
   "cell_type": "code",
   "execution_count": 84,
   "metadata": {},
   "outputs": [
    {
     "name": "stdout",
     "output_type": "stream",
     "text": [
      "[[98 31 48 47  8]\n",
      " [ 6 97 17 26 94]\n",
      " [59 60 23 11 98]\n",
      " [79 23  2 75 16]\n",
      " [12 57 15 96 11]]\n",
      "\n",
      "44.36\n"
     ]
    }
   ],
   "source": [
    "m = np.random.randint(low = 100, size = (5, 5))\n",
    "print(m)\n",
    "print()\n",
    "print(m.mean())"
   ]
  },
  {
   "cell_type": "markdown",
   "metadata": {},
   "source": [
    "#### Q14 : En utilisant une fonction, donner la taille de la liste suivante :\n",
    "```python \n",
    "l = [x for x in range(11)]\n",
    "```"
   ]
  },
  {
   "cell_type": "code",
   "execution_count": 21,
   "metadata": {},
   "outputs": [
    {
     "data": {
      "text/plain": [
       "11"
      ]
     },
     "execution_count": 21,
     "metadata": {},
     "output_type": "execute_result"
    }
   ],
   "source": [
    "l = [x for x in range(11)]\n",
    "len(l)"
   ]
  },
  {
   "cell_type": "markdown",
   "metadata": {},
   "source": [
    "#### Q15 : Créer un tableau de taille 10 avec des valeurs comprises entre 0 et 1 EXCLUS "
   ]
  },
  {
   "cell_type": "code",
   "execution_count": 94,
   "metadata": {},
   "outputs": [
    {
     "data": {
      "text/plain": [
       "array([[0.63055262],\n",
       "       [0.56028671],\n",
       "       [0.31741806],\n",
       "       [0.9320221 ],\n",
       "       [0.56720687],\n",
       "       [0.530731  ],\n",
       "       [0.13313458],\n",
       "       [0.92706904],\n",
       "       [0.46421381],\n",
       "       [0.56721906]])"
      ]
     },
     "execution_count": 94,
     "metadata": {},
     "output_type": "execute_result"
    }
   ],
   "source": [
    "np.random.random((10, 1))"
   ]
  },
  {
   "cell_type": "markdown",
   "metadata": {},
   "source": [
    "#### Q16 : Soit deux tableau A et B de dimension 1 et de taille 5, créer A et B et afficher True si A et B sont égaux False sinon"
   ]
  },
  {
   "cell_type": "code",
   "execution_count": 125,
   "metadata": {},
   "outputs": [
    {
     "name": "stdout",
     "output_type": "stream",
     "text": [
      "[[1]\n",
      " [0]\n",
      " [0]\n",
      " [0]\n",
      " [1]]\n",
      "\n",
      "[[0]\n",
      " [1]\n",
      " [1]\n",
      " [1]\n",
      " [0]]\n",
      "\n",
      "False\n"
     ]
    }
   ],
   "source": [
    "a = np.random.randint(low = 2, size = (5, 1))\n",
    "b = np.random.randint(low = 2, size = (5, 1))\n",
    "print(a)\n",
    "print()\n",
    "print(b)\n",
    "print()\n",
    "print(True if np.array_equal(a, b) else False)"
   ]
  },
  {
   "cell_type": "markdown",
   "metadata": {},
   "source": [
    "#### Q17 : Convertir un tableau de float32 de dimension 1 et de taille 10 en un tableau de meme taille et dimension mais de type int32"
   ]
  },
  {
   "cell_type": "code",
   "execution_count": 76,
   "metadata": {},
   "outputs": [
    {
     "name": "stdout",
     "output_type": "stream",
     "text": [
      "[[8.28682007]\n",
      " [6.69485813]\n",
      " [5.91226577]\n",
      " [7.8855279 ]\n",
      " [4.3000925 ]\n",
      " [9.13006287]\n",
      " [8.02144274]\n",
      " [5.09597762]\n",
      " [8.09628888]\n",
      " [2.04141495]]\n",
      "\n",
      "[[8]\n",
      " [6]\n",
      " [5]\n",
      " [7]\n",
      " [4]\n",
      " [9]\n",
      " [8]\n",
      " [5]\n",
      " [8]\n",
      " [2]]\n"
     ]
    }
   ],
   "source": [
    "m = np.random.uniform(low = 0.0, high = 10.0, size=(10, 1))\n",
    "print(m)\n",
    "print()\n",
    "print(m.astype(int))"
   ]
  },
  {
   "cell_type": "markdown",
   "metadata": {},
   "source": [
    "#### Q18 : Normaliser une matrice random 5x5 \n",
    "La normalisation d'un nombre X consiste à lui retirer sa moyenne et a diviser le tout par son écart type "
   ]
  },
  {
   "cell_type": "code",
   "execution_count": 87,
   "metadata": {},
   "outputs": [
    {
     "name": "stdout",
     "output_type": "stream",
     "text": [
      "[[86 44 32 16  7]\n",
      " [60 90 51 39 36]\n",
      " [80 97 75 94 56]\n",
      " [25 17 15 20 65]\n",
      " [93 91 56 56 22]]\n",
      "\n",
      "[[0.46486486 0.23783784 0.17297297 0.08648649 0.03783784]\n",
      " [0.2173913  0.32608696 0.18478261 0.14130435 0.13043478]\n",
      " [0.19900498 0.24129353 0.18656716 0.23383085 0.13930348]\n",
      " [0.17605634 0.11971831 0.1056338  0.14084507 0.45774648]\n",
      " [0.29245283 0.28616352 0.17610063 0.17610063 0.06918239]]\n"
     ]
    }
   ],
   "source": [
    "m = np.random.randint(low = 100, size = (5, 5))\n",
    "print(m)\n",
    "row_sums = m.sum(axis = 1)\n",
    "new_matrix = m / row_sums[:, np.newaxis]\n",
    "print()\n",
    "print(new_matrix)"
   ]
  },
  {
   "cell_type": "markdown",
   "metadata": {},
   "source": [
    "#### Q19 : Créer une matrice random `M` 2x2 et donner sa transposer \n",
    "L'opération de transposition dans une matrice consiste à échanger les lignes et le colonnes. "
   ]
  },
  {
   "cell_type": "code",
   "execution_count": 88,
   "metadata": {},
   "outputs": [
    {
     "name": "stdout",
     "output_type": "stream",
     "text": [
      "[[15 13 75 30 59]\n",
      " [57 69 15 38 66]\n",
      " [92 19 82 49 66]\n",
      " [83 15  0 75 68]\n",
      " [74 40 34 13 27]]\n",
      "\n",
      "[[15 57 92 83 74]\n",
      " [13 69 19 15 40]\n",
      " [75 15 82  0 34]\n",
      " [30 38 49 75 13]\n",
      " [59 66 66 68 27]]\n"
     ]
    }
   ],
   "source": [
    "m = np.random.randint(low = 100, size = (5, 5))\n",
    "print(m)\n",
    "print()\n",
    "print(m.T)"
   ]
  },
  {
   "cell_type": "markdown",
   "metadata": {},
   "source": [
    "#### Q20 : Écrire un petit script qui remplace un élément au hasard dans une matrice de dimension NxN"
   ]
  },
  {
   "cell_type": "code",
   "execution_count": 92,
   "metadata": {},
   "outputs": [
    {
     "name": "stdout",
     "output_type": "stream",
     "text": [
      "[[47 82 47  8 37]\n",
      " [34 47 39 26 32]\n",
      " [57  7 88 73 54]\n",
      " [ 8 12 63 97 19]\n",
      " [72 53 37 66  6]]\n",
      "\n",
      "[[47 82 47  8 37]\n",
      " [34 47 39 26 32]\n",
      " [57  7 88 73 54]\n",
      " [ 8 12 63 97 97]\n",
      " [72 53 37 66  6]]\n"
     ]
    }
   ],
   "source": [
    "lines, columns = 5, 5\n",
    "m = np.random.randint(low = 100, size = (lines, columns))\n",
    "print(m)\n",
    "m[np.random.randint(lines)][np.random.randint(columns)] = np.random.randint(100)\n",
    "print()\n",
    "print(m)"
   ]
  },
  {
   "cell_type": "markdown",
   "metadata": {},
   "source": [
    "#### Q21 : Considérons une matrice de dimension (5,5,3), écrire un script qui multiplie cette matrice par une matrice de dimension (5,5)"
   ]
  },
  {
   "cell_type": "code",
   "execution_count": null,
   "metadata": {},
   "outputs": [],
   "source": []
  }
 ],
 "metadata": {
  "kernelspec": {
   "display_name": "Python 3",
   "language": "python",
   "name": "python3"
  },
  "language_info": {
   "codemirror_mode": {
    "name": "ipython",
    "version": 3
   },
   "file_extension": ".py",
   "mimetype": "text/x-python",
   "name": "python",
   "nbconvert_exporter": "python",
   "pygments_lexer": "ipython3",
   "version": "3.8.3"
  },
  "latex_envs": {
   "LaTeX_envs_menu_present": true,
   "autoclose": false,
   "autocomplete": true,
   "bibliofile": "biblio.bib",
   "cite_by": "apalike",
   "current_citInitial": 1,
   "eqLabelWithNumbers": true,
   "eqNumInitial": 1,
   "hotkeys": {
    "equation": "Ctrl-E",
    "itemize": "Ctrl-I"
   },
   "labels_anchors": false,
   "latex_user_defs": false,
   "report_style_numbering": false,
   "user_envs_cfg": false
  },
  "toc": {
   "base_numbering": 1,
   "nav_menu": {},
   "number_sections": true,
   "sideBar": true,
   "skip_h1_title": false,
   "title_cell": "Table of Contents",
   "title_sidebar": "Contents",
   "toc_cell": false,
   "toc_position": {},
   "toc_section_display": true,
   "toc_window_display": false
  },
  "varInspector": {
   "cols": {
    "lenName": 16,
    "lenType": 16,
    "lenVar": 40
   },
   "kernels_config": {
    "python": {
     "delete_cmd_postfix": "",
     "delete_cmd_prefix": "del ",
     "library": "var_list.py",
     "varRefreshCmd": "print(var_dic_list())"
    },
    "r": {
     "delete_cmd_postfix": ") ",
     "delete_cmd_prefix": "rm(",
     "library": "var_list.r",
     "varRefreshCmd": "cat(var_dic_list()) "
    }
   },
   "types_to_exclude": [
    "module",
    "function",
    "builtin_function_or_method",
    "instance",
    "_Feature"
   ],
   "window_display": false
  }
 },
 "nbformat": 4,
 "nbformat_minor": 2
}
