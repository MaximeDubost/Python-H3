{
 "cells": [
  {
   "cell_type": "markdown",
   "metadata": {},
   "source": [
    "# 1. Bases\n",
    "## 1.1. Simple échange"
   ]
  },
  {
   "cell_type": "code",
   "execution_count": 7,
   "metadata": {
    "scrolled": false
   },
   "outputs": [
    {
     "name": "stdout",
     "output_type": "stream",
     "text": [
      "a : 2 | b : 1\n"
     ]
    }
   ],
   "source": [
    "a = 1\n",
    "b = 2\n",
    "\n",
    "a, b = b, a\n",
    "\n",
    "print(\"a : {0} | b : {1}\".format(a, b))"
   ]
  },
  {
   "cell_type": "markdown",
   "metadata": {},
   "source": [
    "## 1.2. Le carré"
   ]
  },
  {
   "cell_type": "code",
   "execution_count": 27,
   "metadata": {},
   "outputs": [
    {
     "name": "stdout",
     "output_type": "stream",
     "text": [
      "Saisissez un nombre : 9\n",
      "81\n"
     ]
    }
   ],
   "source": [
    "n = int(input(\"Saisissez un nombre : \"))\n",
    "\n",
    "print(n**2)"
   ]
  },
  {
   "cell_type": "markdown",
   "metadata": {},
   "source": [
    "## 1.3. La condition"
   ]
  },
  {
   "cell_type": "code",
   "execution_count": 12,
   "metadata": {},
   "outputs": [
    {
     "name": "stdout",
     "output_type": "stream",
     "text": [
      "Saisissez un nombre : 0\n",
      "Positif\n"
     ]
    }
   ],
   "source": [
    "n = int(input(\"Saisissez un nombre : \"))\n",
    "\n",
    "if n < 0:\n",
    "    print(\"Négatif\")\n",
    "else:\n",
    "    print(\"Positif\")"
   ]
  },
  {
   "cell_type": "markdown",
   "metadata": {},
   "source": [
    "## 1.4. Le produit"
   ]
  },
  {
   "cell_type": "code",
   "execution_count": 17,
   "metadata": {},
   "outputs": [
    {
     "name": "stdout",
     "output_type": "stream",
     "text": [
      "Saisissez un premier nombre : -2\n",
      "Saisissez un second nombre : 8\n",
      "Négatif (-16)\n"
     ]
    }
   ],
   "source": [
    "a = int(input(\"Saisissez un premier nombre : \"))\n",
    "b = int(input(\"Saisissez un second nombre : \"))\n",
    "\n",
    "if a*b < 0:\n",
    "    print(\"Négatif (\" + str(a*b) + \")\")\n",
    "else:\n",
    "    print(\"Positif (\" + str(a*b) + \")\")"
   ]
  },
  {
   "cell_type": "markdown",
   "metadata": {},
   "source": [
    "## 1.5. Calcul"
   ]
  },
  {
   "cell_type": "code",
   "execution_count": 26,
   "metadata": {},
   "outputs": [
    {
     "name": "stdout",
     "output_type": "stream",
     "text": [
      "Saisissez un nombre : 17\n",
      "18\n",
      "19\n",
      "20\n",
      "21\n",
      "22\n",
      "23\n",
      "24\n",
      "25\n",
      "26\n",
      "27\n"
     ]
    }
   ],
   "source": [
    "n = int(input(\"Saisissez un nombre : \"))\n",
    "\n",
    "for i in range(n, n+10):\n",
    "    print(i+1)"
   ]
  },
  {
   "cell_type": "markdown",
   "metadata": {},
   "source": [
    "## 1.6. Additivité"
   ]
  },
  {
   "cell_type": "code",
   "execution_count": 15,
   "metadata": {},
   "outputs": [
    {
     "name": "stdout",
     "output_type": "stream",
     "text": [
      "Saisissez un nombre : 2\n",
      "3\n"
     ]
    }
   ],
   "source": [
    "n = int(input(\"Saisissez un nombre : \"))\n",
    "add = 0\n",
    "\n",
    "for i in range(0, n):\n",
    "    add += i+1\n",
    "    \n",
    "print(add)"
   ]
  },
  {
   "cell_type": "markdown",
   "metadata": {},
   "source": [
    "# 2. Tableaux\n",
    "## 2.1. La somme"
   ]
  },
  {
   "cell_type": "code",
   "execution_count": 18,
   "metadata": {},
   "outputs": [
    {
     "name": "stdout",
     "output_type": "stream",
     "text": [
      "10\n"
     ]
    }
   ],
   "source": [
    "l = [1, 2, 3, 4]\n",
    "somme = 0\n",
    "\n",
    "for i in l:\n",
    "    somme += l[i-1]\n",
    "    \n",
    "print(somme)"
   ]
  },
  {
   "cell_type": "markdown",
   "metadata": {},
   "source": [
    "## 2.2. La somme : retour"
   ]
  },
  {
   "cell_type": "code",
   "execution_count": 20,
   "metadata": {},
   "outputs": [
    {
     "name": "stdout",
     "output_type": "stream",
     "text": [
      "[6, 8, 10, 12]\n"
     ]
    }
   ],
   "source": [
    "l1 = [1, 2, 3, 4]\n",
    "l2 = [5, 6, 7, 8]\n",
    "somme = []\n",
    "\n",
    "for i in l1:\n",
    "    somme.append(l1[i-1] + l2[i-1])\n",
    "    \n",
    "print(somme)"
   ]
  },
  {
   "cell_type": "markdown",
   "metadata": {},
   "source": [
    "## 2.3. FacProduct"
   ]
  },
  {
   "cell_type": "code",
   "execution_count": 27,
   "metadata": {},
   "outputs": [
    {
     "name": "stdout",
     "output_type": "stream",
     "text": [
      "260\n"
     ]
    }
   ],
   "source": [
    "l1 = [1, 2, 3, 4]\n",
    "l2 = [5, 6, 7, 8]\n",
    "somme = 0\n",
    "\n",
    "for i in range(0, len(l1)):\n",
    "    for j in range(0, len(l2)):\n",
    "        somme += l1[i-1] * l2[j-1]\n",
    "        \n",
    "print(somme)"
   ]
  },
  {
   "cell_type": "markdown",
   "metadata": {},
   "source": [
    "## 2.4. Le plus grand"
   ]
  },
  {
   "cell_type": "code",
   "execution_count": 33,
   "metadata": {},
   "outputs": [
    {
     "name": "stdout",
     "output_type": "stream",
     "text": [
      "Saisissez le premier nombre : 1\n",
      "Saisissez le deuxième nombre : 5\n",
      "Saisissez le dernier nombre : 10\n",
      "Le plus grand nombre est : 10\n"
     ]
    }
   ],
   "source": [
    "a = int(input(\"Saisissez le premier nombre : \"))\n",
    "b = int(input(\"Saisissez le deuxième nombre : \"))\n",
    "c = int(input(\"Saisissez le dernier nombre : \"))\n",
    "l = [a, b, c]\n",
    "result = a\n",
    "\n",
    "for i in l:\n",
    "    if i > result:\n",
    "        result = i\n",
    "        \n",
    "print(\"Le plus grand nombre est : \" + str(result))"
   ]
  }
 ],
 "metadata": {
  "kernelspec": {
   "display_name": "Python 3",
   "language": "python",
   "name": "python3"
  },
  "language_info": {
   "codemirror_mode": {
    "name": "ipython",
    "version": 3
   },
   "file_extension": ".py",
   "mimetype": "text/x-python",
   "name": "python",
   "nbconvert_exporter": "python",
   "pygments_lexer": "ipython3",
   "version": "3.8.3"
  }
 },
 "nbformat": 4,
 "nbformat_minor": 4
}
