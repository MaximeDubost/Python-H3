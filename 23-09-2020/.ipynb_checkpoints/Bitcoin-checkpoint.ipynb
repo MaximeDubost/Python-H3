{
 "cells": [
  {
   "cell_type": "markdown",
   "metadata": {},
   "source": [
    "# Exercices Bitcoin"
   ]
  },
  {
   "cell_type": "code",
   "execution_count": null,
   "metadata": {},
   "outputs": [],
   "source": [
    "def makeNumberStr(sep = [',']):\n",
    "    beforeComma = str(np.random.randint(1, 1000))\n",
    "    afterComma = '{:02}'.format(np.random.randint(0, 99))\n",
    "    sep = np.random.choice(sep)\n",
    "    return beforeComma + sep + afterComma"
   ]
  },
  {
   "cell_type": "code",
   "execution_count": null,
   "metadata": {},
   "outputs": [],
   "source": [
    "def makeNumberStrRandSign(sep = [','], signs = ['€', '$']):\n",
    "    beforeComma = str(np.random.randint(1, 1000))\n",
    "    afterComma = '{:02}'.format(np.random.randint(0, 99))\n",
    "    sep = np.random.choice(sep)\n",
    "    sign = np.random.choice(signs)\n",
    "    return beforeComma + sep + afterComma + sign"
   ]
  },
  {
   "cell_type": "markdown",
   "metadata": {},
   "source": [
    "### Exercice 1"
   ]
  },
  {
   "cell_type": "code",
   "execution_count": null,
   "metadata": {},
   "outputs": [],
   "source": [
    "col1 = [makeNumberStr() for _ in range(200)]\n",
    "col2 = [makeNumberStr(['.', ',']) for _ in range(200)]"
   ]
  },
  {
   "cell_type": "code",
   "execution_count": null,
   "metadata": {},
   "outputs": [],
   "source": [
    "exo1 = pd.DataFrame(data = {\"col1\": col1, \"col2\": col2})"
   ]
  },
  {
   "cell_type": "code",
   "execution_count": null,
   "metadata": {},
   "outputs": [],
   "source": [
    "exo1"
   ]
  },
  {
   "cell_type": "code",
   "execution_count": null,
   "metadata": {},
   "outputs": [],
   "source": [
    "exo1['col1'] = exo1['col1'].str.replace(',', '.')\n",
    "exo1['col2'] = exo1['col2'].str.replace(',', '.')"
   ]
  },
  {
   "cell_type": "code",
   "execution_count": null,
   "metadata": {},
   "outputs": [],
   "source": [
    "exo1"
   ]
  },
  {
   "cell_type": "markdown",
   "metadata": {},
   "source": [
    "### Exercice 2"
   ]
  },
  {
   "cell_type": "code",
   "execution_count": null,
   "metadata": {},
   "outputs": [],
   "source": [
    "col1 = [makeNumberStrRandSign() for _ in range(200)]\n",
    "col2 = [makeNumberStrRandSign(['.', ',']) for _ in range(200)]"
   ]
  },
  {
   "cell_type": "code",
   "execution_count": null,
   "metadata": {},
   "outputs": [],
   "source": [
    "exo2 = pd.DataFrame(data = {\"col1\": col1, \"col2\": col2})"
   ]
  },
  {
   "cell_type": "code",
   "execution_count": null,
   "metadata": {},
   "outputs": [],
   "source": [
    "exo2"
   ]
  },
  {
   "cell_type": "code",
   "execution_count": null,
   "metadata": {},
   "outputs": [],
   "source": [
    "exo2['col1'] = exo2['col1'].str.replace(',', '.')\n",
    "exo2['col2'] = exo2['col2'].str.replace(',', '.')\n",
    "exo2['devise_col1'] = exo2['col1'].str[-1]\n",
    "exo2['devise_col2'] = exo2['col2'].str[-1]\n",
    "exo2['col1'] = exo2['col1'].str[:-1].astype('float')\n",
    "exo2['col2'] = exo2['col2'].str[:-1].astype('float')"
   ]
  },
  {
   "cell_type": "code",
   "execution_count": null,
   "metadata": {},
   "outputs": [],
   "source": [
    "exo2"
   ]
  }
 ],
 "metadata": {
  "kernelspec": {
   "display_name": "Python 3",
   "language": "python",
   "name": "python3"
  },
  "language_info": {
   "codemirror_mode": {
    "name": "ipython",
    "version": 3
   },
   "file_extension": ".py",
   "mimetype": "text/x-python",
   "name": "python",
   "nbconvert_exporter": "python",
   "pygments_lexer": "ipython3",
   "version": "3.8.3"
  }
 },
 "nbformat": 4,
 "nbformat_minor": 4
}
