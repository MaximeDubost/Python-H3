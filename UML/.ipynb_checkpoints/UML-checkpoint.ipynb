{
 "cells": [
  {
   "cell_type": "code",
   "execution_count": 64,
   "metadata": {},
   "outputs": [],
   "source": [
    "import datetime as dt\n",
    "\n",
    "class Person:\n",
    "    nom: str\n",
    "    prenom: str\n",
    "    dateNaissance: dt.datetime\n",
    "    \n",
    "    def __init__(self, nom: str, prenom: str, dateNaissance: dt.datetime):\n",
    "        self.nom = nom\n",
    "        self.prenom = prenom\n",
    "        self.dateNaissance = dateNaissance\n",
    "        \n",
    "    def afficher(self):\n",
    "        print(self.nom + \" \" + self.prenom + \" \" + str(self.dateNaissance))\n",
    "    \n",
    "    def calculerAge(self) -> int:\n",
    "        return dt.datetime.now().year - self.dateNaissance.year\n"
   ]
  },
  {
   "cell_type": "code",
   "execution_count": 65,
   "metadata": {},
   "outputs": [
    {
     "name": "stdout",
     "output_type": "stream",
     "text": [
      "Dubost Maxime 1999-09-22 00:00:00\n",
      "21\n"
     ]
    }
   ],
   "source": [
    "p1 = Person(\"Dubost\", \"Maxime\", dt.datetime(1999, 9, 22))\n",
    "p1.afficher()\n",
    "print(p1.calculerAge())"
   ]
  },
  {
   "cell_type": "code",
   "execution_count": 74,
   "metadata": {},
   "outputs": [],
   "source": [
    "class Vecteur:\n",
    "    def __init__(self, x, y):\n",
    "        self.x = x\n",
    "        self.y = y\n",
    "\n",
    "    def __add__(self, other: Vecteur) -> Vecteur:\n",
    "        return Vecteur(self.x + other.x, self.y + other.y)\n",
    "    \n",
    "    def __sub__(self, other: Vecteur) -> Vecteur:\n",
    "        return Vecteur(self.x - other.x, self.y - other.y)\n",
    "    \n",
    "    def __repr__(self) -> str:\n",
    "        return \"Vecteur({}, {})\".format(self.x, self.y)\n",
    "        "
   ]
  },
  {
   "cell_type": "code",
   "execution_count": 75,
   "metadata": {},
   "outputs": [],
   "source": [
    "v1 = Vecteur(1, 2)\n",
    "v2 = Vecteur(3, 4)"
   ]
  },
  {
   "cell_type": "code",
   "execution_count": 76,
   "metadata": {},
   "outputs": [
    {
     "data": {
      "text/plain": [
       "Vecteur(4, 6)"
      ]
     },
     "execution_count": 76,
     "metadata": {},
     "output_type": "execute_result"
    }
   ],
   "source": [
    "v1 + v2"
   ]
  },
  {
   "cell_type": "markdown",
   "metadata": {},
   "source": [
    "### Le compte bancaire"
   ]
  },
  {
   "cell_type": "code",
   "execution_count": 95,
   "metadata": {},
   "outputs": [],
   "source": [
    "class CompteBancaire():\n",
    "    nom: str\n",
    "    solde: int\n",
    "        \n",
    "    def __init__(self, nom: str = \"Dupont\", solde: int = 1000):\n",
    "        self.nom = nom\n",
    "        self.solde = solde\n",
    "        \n",
    "    def depot(self, somme: int):\n",
    "        self.solde = self.solde + somme\n",
    "    \n",
    "    def retrait(self, somme: int):\n",
    "        self.solde = self.solde - somme\n",
    "    \n",
    "    def affiche(self):\n",
    "        return self.__repr__()\n",
    "    \n",
    "    def __repr__(self) -> str:\n",
    "        return \"Le solde du compte bancaire de {} est de {} euros.\".format(self.nom, self.solde)"
   ]
  },
  {
   "cell_type": "code",
   "execution_count": 96,
   "metadata": {},
   "outputs": [
    {
     "data": {
      "text/plain": [
       "'Le solde du compte bancaire de Duchmol est de 950 euros.'"
      ]
     },
     "execution_count": 96,
     "metadata": {},
     "output_type": "execute_result"
    }
   ],
   "source": [
    "compte1 = CompteBancaire('Duchmol', 800)\n",
    "compte1.depot(350)\n",
    "compte1.retrait(200)\n",
    "compte1.affiche()"
   ]
  },
  {
   "cell_type": "code",
   "execution_count": 97,
   "metadata": {},
   "outputs": [
    {
     "data": {
      "text/plain": [
       "'Le solde du compte bancaire de Dupont est de 1025 euros.'"
      ]
     },
     "execution_count": 97,
     "metadata": {},
     "output_type": "execute_result"
    }
   ],
   "source": [
    "compte2 = CompteBancaire()\n",
    "compte2.depot(25)\n",
    "compte2.affiche()"
   ]
  },
  {
   "cell_type": "markdown",
   "metadata": {},
   "source": [
    "### La surcharge d'opérateur"
   ]
  },
  {
   "cell_type": "code",
   "execution_count": 104,
   "metadata": {},
   "outputs": [],
   "source": [
    "class Point():\n",
    "    x: float\n",
    "    y: float\n",
    "    z: float\n",
    "        \n",
    "    def __init__(self, x: float, y: float, z: float = None):\n",
    "        self.x = x\n",
    "        self.y = y\n",
    "        self.z = z\n",
    "        \n",
    "    def toString(self) -> str:\n",
    "        return self.__repr__()\n",
    "        \n",
    "    def __repr__(self) -> str:\n",
    "        return \"P({}, {}, {})\".format(self.x, self.y, self.z) if self.z != None else \"P({}, {})\".format(self.x, self.y) "
   ]
  },
  {
   "cell_type": "code",
   "execution_count": 105,
   "metadata": {},
   "outputs": [
    {
     "data": {
      "text/plain": [
       "'P(2, 3)'"
      ]
     },
     "execution_count": 105,
     "metadata": {},
     "output_type": "execute_result"
    }
   ],
   "source": [
    "p1 = Point(2, 3)\n",
    "p1.toString()"
   ]
  },
  {
   "cell_type": "code",
   "execution_count": 106,
   "metadata": {},
   "outputs": [
    {
     "data": {
      "text/plain": [
       "'P(1, -5, 6)'"
      ]
     },
     "execution_count": 106,
     "metadata": {},
     "output_type": "execute_result"
    }
   ],
   "source": [
    "p2 = Point(1, -5, 6)\n",
    "p2.toString()"
   ]
  },
  {
   "cell_type": "markdown",
   "metadata": {},
   "source": [
    "### L'héritage simple"
   ]
  },
  {
   "cell_type": "code",
   "execution_count": null,
   "metadata": {},
   "outputs": [],
   "source": [
    "import datetime as dt\n",
    "\n",
    "class DateNaissance:\n",
    "    jour: dt.datetime.day\n",
    "    mois: dt.datetime.month\n",
    "    année: dt.datetime.year\n",
    "        \n",
    "    def __init__(self, jour: dt.datetime.day, mois: dt.datetime.month, année: dt.datetime.year):\n",
    "        self.jour = jour\n",
    "        self.mois = mois\n",
    "        self.année = année\n",
    "        \n",
    "    def toString(self):\n",
    "        return self.__repr__()\n",
    "    \n",
    "    def __repr__():\n",
    "        pass\n",
    "\n",
    "class Personne:\n",
    "    pass\n",
    "\n",
    "class Employé:\n",
    "    pass\n",
    "\n",
    "class Chef:\n",
    "    pass\n",
    "\n"
   ]
  }
 ],
 "metadata": {
  "kernelspec": {
   "display_name": "Python 3",
   "language": "python",
   "name": "python3"
  },
  "language_info": {
   "codemirror_mode": {
    "name": "ipython",
    "version": 3
   },
   "file_extension": ".py",
   "mimetype": "text/x-python",
   "name": "python",
   "nbconvert_exporter": "python",
   "pygments_lexer": "ipython3",
   "version": "3.8.3"
  }
 },
 "nbformat": 4,
 "nbformat_minor": 4
}
