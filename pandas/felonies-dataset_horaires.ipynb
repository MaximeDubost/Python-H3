{
 "cells": [
  {
   "cell_type": "markdown",
   "metadata": {},
   "source": [
    "# Exerice : gestion des cycles (horaires)"
   ]
  },
  {
   "cell_type": "code",
   "execution_count": 209,
   "metadata": {},
   "outputs": [
    {
     "data": {
      "text/plain": [
       "DoA          object\n",
       "Age           int64\n",
       "Convicted    object\n",
       "dtype: object"
      ]
     },
     "execution_count": 209,
     "metadata": {},
     "output_type": "execute_result"
    }
   ],
   "source": [
    "import pandas as pd\n",
    "fp = 'https://bit.ly/felonies-dataset'\n",
    "df = pd.read_csv(fp)\n",
    "\n",
    "df.rename(columns = {'Date of Arrest': 'DoA'}, inplace = True)\n",
    "\n",
    "df.dtypes"
   ]
  },
  {
   "cell_type": "code",
   "execution_count": 210,
   "metadata": {},
   "outputs": [],
   "source": [
    "df.DoA = pd.to_datetime(df.DoA)"
   ]
  },
  {
   "cell_type": "code",
   "execution_count": 211,
   "metadata": {},
   "outputs": [
    {
     "data": {
      "text/plain": [
       "0      1459\n",
       "1      2217\n",
       "2       931\n",
       "3       952\n",
       "4      1406\n",
       "       ... \n",
       "995    1424\n",
       "996    1803\n",
       "997    2159\n",
       "998    1716\n",
       "999    1829\n",
       "Name: DoA, Length: 1000, dtype: int64"
      ]
     },
     "execution_count": 211,
     "metadata": {},
     "output_type": "execute_result"
    }
   ],
   "source": [
    "colonne_temporaire = df.DoA.dt.hour * 100 + df.DoA.dt.minute\n",
    "colonne_temporaire"
   ]
  },
  {
   "cell_type": "code",
   "execution_count": 212,
   "metadata": {},
   "outputs": [],
   "source": [
    "DEBUT_JOURNEE = -1\n",
    "AVANT_NUIT = 325\n",
    "AVANT_MATIN = 1613\n",
    "AVANT_AM = 2212\n",
    "FIN_JOURNEE = 2400\n",
    "\n",
    "bins = [DEBUT_JOURNEE, AVANT_NUIT, AVANT_MATIN, AVANT_AM, FIN_JOURNEE]\n",
    "labels = ['NUIT', 'MATIN', 'AM', 'NUIT2']\n",
    "\n",
    "periodes = pd.cut(colonne_temporaire, bins = bins, labels = labels)"
   ]
  },
  {
   "cell_type": "code",
   "execution_count": 213,
   "metadata": {},
   "outputs": [
    {
     "data": {
      "text/plain": [
       "array(['MATIN', 'NUIT', 'AM'], dtype=object)"
      ]
     },
     "execution_count": 213,
     "metadata": {},
     "output_type": "execute_result"
    }
   ],
   "source": [
    "periodes = periodes.str.replace('2', '')\n",
    "periodes.unique()"
   ]
  },
  {
   "cell_type": "code",
   "execution_count": 215,
   "metadata": {},
   "outputs": [
    {
     "data": {
      "text/plain": [
       "0    MATIN\n",
       "1     NUIT\n",
       "2    MATIN\n",
       "3    MATIN\n",
       "4    MATIN\n",
       "Name: DoA, dtype: object"
      ]
     },
     "execution_count": 215,
     "metadata": {},
     "output_type": "execute_result"
    }
   ],
   "source": [
    "periodes.head()"
   ]
  },
  {
   "cell_type": "code",
   "execution_count": 216,
   "metadata": {},
   "outputs": [],
   "source": [
    "ordre = ['NUIT', 'MATIN', 'AM']\n",
    "periodes = (periodes.astype('category').\n",
    "           cat.as_ordered().\n",
    "           cat.reorder_categories(ordre))"
   ]
  },
  {
   "cell_type": "code",
   "execution_count": 217,
   "metadata": {},
   "outputs": [
    {
     "data": {
      "text/plain": [
       "0    MATIN\n",
       "1     NUIT\n",
       "2    MATIN\n",
       "3    MATIN\n",
       "4    MATIN\n",
       "Name: DoA, dtype: category\n",
       "Categories (3, object): ['NUIT' < 'MATIN' < 'AM']"
      ]
     },
     "execution_count": 217,
     "metadata": {},
     "output_type": "execute_result"
    }
   ],
   "source": [
    "periodes.head()"
   ]
  }
 ],
 "metadata": {
  "kernelspec": {
   "display_name": "Python 3",
   "language": "python",
   "name": "python3"
  },
  "language_info": {
   "codemirror_mode": {
    "name": "ipython",
    "version": 3
   },
   "file_extension": ".py",
   "mimetype": "text/x-python",
   "name": "python",
   "nbconvert_exporter": "python",
   "pygments_lexer": "ipython3",
   "version": "3.8.3"
  }
 },
 "nbformat": 4,
 "nbformat_minor": 4
}
